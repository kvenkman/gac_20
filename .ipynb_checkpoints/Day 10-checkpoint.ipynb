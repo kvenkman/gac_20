{
 "cells": [
  {
   "cell_type": "markdown",
   "metadata": {},
   "source": [
    "# Part One"
   ]
  },
  {
   "cell_type": "code",
   "execution_count": 1,
   "metadata": {},
   "outputs": [],
   "source": [
    "input_file, test_input_file = 'day10_input', 'day10_test_input'"
   ]
  },
  {
   "cell_type": "code",
   "execution_count": 2,
   "metadata": {},
   "outputs": [],
   "source": [
    "test = False \n",
    "\n",
    "file = test_input_file if(test) else input_file\n",
    "\n",
    "with open(file, 'r') as f:\n",
    "    lines = [0] + [int(l.strip()) for l in f.readlines()]\n",
    "    \n",
    "lines.sort()\n",
    "adapterRating = lines[-1] + 3\n",
    "lines.append(adapterRating)"
   ]
  },
  {
   "cell_type": "code",
   "execution_count": 3,
   "metadata": {},
   "outputs": [
    {
     "name": "stdout",
     "output_type": "stream",
     "text": [
      "2812\n"
     ]
    }
   ],
   "source": [
    "oneJoltDiff, threeJoltDiff = 0, 0\n",
    "i = 1\n",
    "while i < len(lines):\n",
    "    oneJoltDiff = oneJoltDiff + 1 if ((lines[i] - lines[i-1]) == 1) else oneJoltDiff\n",
    "    threeJoltDiff = threeJoltDiff + 1 if ((lines[i] - lines[i-1]) == 3) else threeJoltDiff\n",
    "    i += 1\n",
    "    \n",
    "print(oneJoltDiff*threeJoltDiff)"
   ]
  },
  {
   "cell_type": "markdown",
   "metadata": {},
   "source": [
    "# Part Two"
   ]
  },
  {
   "cell_type": "code",
   "execution_count": 4,
   "metadata": {},
   "outputs": [],
   "source": [
    "from collections import defaultdict"
   ]
  },
  {
   "cell_type": "code",
   "execution_count": 5,
   "metadata": {},
   "outputs": [],
   "source": [
    "input_file, test_input_file = 'day10_input', 'day10_test_input2'\n",
    "\n",
    "test = False \n",
    "\n",
    "file = test_input_file if(test) else input_file\n",
    "\n",
    "with open(file, 'r') as f:\n",
    "    lines = [0] + [int(l.strip()) for l in f.readlines()]\n",
    "    \n",
    "lines.sort()\n",
    "adapterRating = lines[-1] + 3"
   ]
  },
  {
   "cell_type": "code",
   "execution_count": 6,
   "metadata": {},
   "outputs": [
    {
     "name": "stdout",
     "output_type": "stream",
     "text": [
      "386869246296064\n"
     ]
    }
   ],
   "source": [
    "connectionsDict = defaultdict(int)\n",
    "\n",
    "product = 1\n",
    "\n",
    "for i in lines[::-1]:\n",
    "    count = 0\n",
    "    pathList = []\n",
    "    for j in range(i+1, i+4):\n",
    "        if j in lines:\n",
    "            pathList.append(j)\n",
    "    \n",
    "    if(pathList):\n",
    "        for j in pathList:\n",
    "            count += connectionsDict[j]\n",
    "        connectionsDict[i] = count\n",
    "    else:\n",
    "        connectionsDict[i] = 1\n",
    "        \n",
    "print(count)"
   ]
  }
 ],
 "metadata": {
  "kernelspec": {
   "display_name": "Python 3",
   "language": "python",
   "name": "python3"
  },
  "language_info": {
   "codemirror_mode": {
    "name": "ipython",
    "version": 3
   },
   "file_extension": ".py",
   "mimetype": "text/x-python",
   "name": "python",
   "nbconvert_exporter": "python",
   "pygments_lexer": "ipython3",
   "version": "3.7.9"
  }
 },
 "nbformat": 4,
 "nbformat_minor": 4
}
