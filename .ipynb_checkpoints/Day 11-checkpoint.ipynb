{
 "cells": [
  {
   "cell_type": "markdown",
   "metadata": {},
   "source": [
    "# Part One"
   ]
  },
  {
   "cell_type": "code",
   "execution_count": 1,
   "metadata": {},
   "outputs": [],
   "source": [
    "input_file, test_input_file = 'day11_input', 'day11_test_input'"
   ]
  },
  {
   "cell_type": "code",
   "execution_count": 15,
   "metadata": {},
   "outputs": [],
   "source": [
    "test = True \n",
    "\n",
    "file = test_input_file if(test) else input_file\n",
    "\n",
    "with open(file, 'r') as f:\n",
    "    lines = [list(l.strip()) for l in f.readlines()]"
   ]
  },
  {
   "cell_type": "code",
   "execution_count": 16,
   "metadata": {},
   "outputs": [],
   "source": [
    "seatDict = {}\n",
    "\n",
    "count = 0\n",
    "for i, r in enumerate(lines):\n",
    "    for j, c in enumerate(r):\n",
    "            seatDict[(i, j)] = c\n"
   ]
  },
  {
   "cell_type": "code",
   "execution_count": 17,
   "metadata": {},
   "outputs": [],
   "source": [
    "def updateState(key, seatDict):\n",
    "    totalOccupancy = 0\n",
    "    for i in range(-1+key[0], 2+key[0]):\n",
    "        for j in range (-1+key[1], 2+key[1]):\n",
    "            if(((i, j) == key) or ((i,j) not in seatDict)):\n",
    "                pass\n",
    "            else:\n",
    "                totalOccupancy += 1 if(seatDict[(i, j)] == '#') else 0\n",
    "    \n",
    "    if seatDict[key] == '#':\n",
    "        if totalOccupancy >= 4:\n",
    "            return 'L'\n",
    "        else:\n",
    "            return '#'\n",
    "    else:\n",
    "        if totalOccupancy == 0:\n",
    "            return '#'\n",
    "        else:\n",
    "            return 'L'"
   ]
  },
  {
   "cell_type": "code",
   "execution_count": 18,
   "metadata": {},
   "outputs": [
    {
     "ename": "KeyboardInterrupt",
     "evalue": "",
     "output_type": "error",
     "traceback": [
      "\u001b[0;31m---------------------------------------------------------------------------\u001b[0m",
      "\u001b[0;31mKeyboardInterrupt\u001b[0m                         Traceback (most recent call last)",
      "\u001b[0;32m<ipython-input-18-6576f4fd3433>\u001b[0m in \u001b[0;36m<module>\u001b[0;34m\u001b[0m\n\u001b[1;32m      6\u001b[0m         \u001b[0;32mif\u001b[0m \u001b[0mvalue\u001b[0m \u001b[0;34m!=\u001b[0m \u001b[0;34m'.'\u001b[0m\u001b[0;34m:\u001b[0m\u001b[0;34m\u001b[0m\u001b[0;34m\u001b[0m\u001b[0m\n\u001b[1;32m      7\u001b[0m             \u001b[0mseatDict\u001b[0m\u001b[0;34m[\u001b[0m\u001b[0mkey\u001b[0m\u001b[0;34m]\u001b[0m \u001b[0;34m=\u001b[0m \u001b[0mupdateState\u001b[0m\u001b[0;34m(\u001b[0m\u001b[0mkey\u001b[0m\u001b[0;34m,\u001b[0m \u001b[0mseatDict\u001b[0m\u001b[0;34m,\u001b[0m \u001b[0mnrows\u001b[0m\u001b[0;34m,\u001b[0m \u001b[0mncols\u001b[0m\u001b[0;34m)\u001b[0m\u001b[0;34m\u001b[0m\u001b[0;34m\u001b[0m\u001b[0m\n\u001b[0;32m----> 8\u001b[0;31m             \u001b[0mcurrentOccupied\u001b[0m \u001b[0;34m+=\u001b[0m \u001b[0;36m1\u001b[0m \u001b[0;32mif\u001b[0m \u001b[0;34m(\u001b[0m\u001b[0mseatDict\u001b[0m\u001b[0;34m[\u001b[0m\u001b[0mkey\u001b[0m\u001b[0;34m]\u001b[0m \u001b[0;34m==\u001b[0m \u001b[0;34m'#'\u001b[0m\u001b[0;34m)\u001b[0m \u001b[0;32melse\u001b[0m \u001b[0;36m0\u001b[0m\u001b[0;34m\u001b[0m\u001b[0;34m\u001b[0m\u001b[0m\n\u001b[0m\u001b[1;32m      9\u001b[0m         \u001b[0;32melse\u001b[0m\u001b[0;34m:\u001b[0m\u001b[0;34m\u001b[0m\u001b[0;34m\u001b[0m\u001b[0m\n\u001b[1;32m     10\u001b[0m             \u001b[0;32mcontinue\u001b[0m\u001b[0;34m\u001b[0m\u001b[0;34m\u001b[0m\u001b[0m\n",
      "\u001b[0;31mKeyboardInterrupt\u001b[0m: "
     ]
    }
   ],
   "source": [
    "prevOccupied = 0\n",
    "currentOccupied = 0\n",
    "while True:\n",
    "    newDict = {}\n",
    "    \n",
    "    for key, value in seatDict.items():\n",
    "        if value != '.':\n",
    "            seatDict[key] = updateState(key, seatDict)\n",
    "            currentOccupied += 1 if (seatDict[key] == '#') else 0\n",
    "        else:\n",
    "            continue\n",
    "    \n",
    "    if (prevOccupied == currentOccupied):\n",
    "        break\n",
    "    prevOccupied == currentOccupied\n",
    "print(prevOccupied)"
   ]
  },
  {
   "cell_type": "code",
   "execution_count": 11,
   "metadata": {},
   "outputs": [
    {
     "data": {
      "text/plain": [
       "{(0, 0): '#',\n",
       " (0, 1): '.',\n",
       " (0, 2): 'L',\n",
       " (0, 3): 'L',\n",
       " (0, 4): '.',\n",
       " (0, 5): 'L',\n",
       " (0, 6): 'L',\n",
       " (0, 7): '.',\n",
       " (0, 8): 'L',\n",
       " (0, 9): 'L',\n",
       " (1, 0): 'L',\n",
       " (1, 1): 'L',\n",
       " (1, 2): 'L',\n",
       " (1, 3): 'L',\n",
       " (1, 4): 'L',\n",
       " (1, 5): 'L',\n",
       " (1, 6): 'L',\n",
       " (1, 7): '.',\n",
       " (1, 8): 'L',\n",
       " (1, 9): 'L',\n",
       " (2, 0): 'L',\n",
       " (2, 1): '.',\n",
       " (2, 2): 'L',\n",
       " (2, 3): '.',\n",
       " (2, 4): 'L',\n",
       " (2, 5): '.',\n",
       " (2, 6): '.',\n",
       " (2, 7): 'L',\n",
       " (2, 8): '.',\n",
       " (2, 9): '.',\n",
       " (3, 0): 'L',\n",
       " (3, 1): 'L',\n",
       " (3, 2): 'L',\n",
       " (3, 3): 'L',\n",
       " (3, 4): '.',\n",
       " (3, 5): 'L',\n",
       " (3, 6): 'L',\n",
       " (3, 7): '.',\n",
       " (3, 8): 'L',\n",
       " (3, 9): 'L',\n",
       " (4, 0): 'L',\n",
       " (4, 1): '.',\n",
       " (4, 2): 'L',\n",
       " (4, 3): 'L',\n",
       " (4, 4): '.',\n",
       " (4, 5): 'L',\n",
       " (4, 6): 'L',\n",
       " (4, 7): '.',\n",
       " (4, 8): 'L',\n",
       " (4, 9): 'L',\n",
       " (5, 0): 'L',\n",
       " (5, 1): '.',\n",
       " (5, 2): 'L',\n",
       " (5, 3): 'L',\n",
       " (5, 4): 'L',\n",
       " (5, 5): 'L',\n",
       " (5, 6): 'L',\n",
       " (5, 7): '.',\n",
       " (5, 8): 'L',\n",
       " (5, 9): 'L',\n",
       " (6, 0): '.',\n",
       " (6, 1): '.',\n",
       " (6, 2): 'L',\n",
       " (6, 3): '.',\n",
       " (6, 4): 'L',\n",
       " (6, 5): '.',\n",
       " (6, 6): '.',\n",
       " (6, 7): '.',\n",
       " (6, 8): '.',\n",
       " (6, 9): '.',\n",
       " (7, 0): 'L',\n",
       " (7, 1): 'L',\n",
       " (7, 2): 'L',\n",
       " (7, 3): 'L',\n",
       " (7, 4): 'L',\n",
       " (7, 5): 'L',\n",
       " (7, 6): 'L',\n",
       " (7, 7): 'L',\n",
       " (7, 8): 'L',\n",
       " (7, 9): 'L',\n",
       " (8, 0): 'L',\n",
       " (8, 1): '.',\n",
       " (8, 2): 'L',\n",
       " (8, 3): 'L',\n",
       " (8, 4): 'L',\n",
       " (8, 5): 'L',\n",
       " (8, 6): 'L',\n",
       " (8, 7): 'L',\n",
       " (8, 8): '.',\n",
       " (8, 9): 'L',\n",
       " (9, 0): 'L',\n",
       " (9, 1): '.',\n",
       " (9, 2): 'L',\n",
       " (9, 3): 'L',\n",
       " (9, 4): 'L',\n",
       " (9, 5): 'L',\n",
       " (9, 6): 'L',\n",
       " (9, 7): '.',\n",
       " (9, 8): 'L',\n",
       " (9, 9): 'L'}"
      ]
     },
     "execution_count": 11,
     "metadata": {},
     "output_type": "execute_result"
    }
   ],
   "source": [
    "seatDict"
   ]
  },
  {
   "cell_type": "markdown",
   "metadata": {},
   "source": [
    "# Part Two"
   ]
  },
  {
   "cell_type": "code",
   "execution_count": 3,
   "metadata": {},
   "outputs": [],
   "source": [
    "test = True \n",
    "\n",
    "file = test_input_file if(test) else input_file\n",
    "\n",
    "with open(file, 'r') as f:\n",
    "    lines = [l.strip() for l in f.readlines()]"
   ]
  },
  {
   "cell_type": "code",
   "execution_count": null,
   "metadata": {},
   "outputs": [],
   "source": []
  },
  {
   "cell_type": "code",
   "execution_count": null,
   "metadata": {},
   "outputs": [],
   "source": []
  }
 ],
 "metadata": {
  "kernelspec": {
   "display_name": "Python 3",
   "language": "python",
   "name": "python3"
  },
  "language_info": {
   "codemirror_mode": {
    "name": "ipython",
    "version": 3
   },
   "file_extension": ".py",
   "mimetype": "text/x-python",
   "name": "python",
   "nbconvert_exporter": "python",
   "pygments_lexer": "ipython3",
   "version": "3.7.9"
  }
 },
 "nbformat": 4,
 "nbformat_minor": 4
}
