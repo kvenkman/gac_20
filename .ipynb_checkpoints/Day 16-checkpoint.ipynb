{
 "cells": [
  {
   "cell_type": "markdown",
   "metadata": {},
   "source": [
    "# Part One"
   ]
  },
  {
   "cell_type": "code",
   "execution_count": 1,
   "metadata": {},
   "outputs": [],
   "source": [
    "input_file, test_input_file = 'day16_input', 'day16_test_input'"
   ]
  },
  {
   "cell_type": "code",
   "execution_count": 25,
   "metadata": {},
   "outputs": [],
   "source": [
    "test = False \n",
    "\n",
    "file = test_input_file if(test) else input_file\n",
    "\n",
    "with open(file, 'r') as f:\n",
    "    lines = [l.strip() for l in f.readlines()]"
   ]
  },
  {
   "cell_type": "code",
   "execution_count": 28,
   "metadata": {},
   "outputs": [
    {
     "name": "stdout",
     "output_type": "stream",
     "text": [
      "23036\n"
     ]
    }
   ],
   "source": [
    "errorRate = 0\n",
    "rulesList = []\n",
    "\n",
    "for i, l in enumerate(lines):\n",
    "    if(l == ''):\n",
    "        break\n",
    "    _, value = l.split(\":\")\n",
    "    fields = value.split('or')\n",
    "    \n",
    "    for field in fields:\n",
    "        bottom, top = field.split('-')\n",
    "        rulesList.append(list(range(int(bottom), int(top)+1)))\n",
    "\n",
    "myTicket = [int(n) for n in lines[i+2].split(',')]\n",
    "nearbyTickets = []\n",
    "\n",
    "for l in lines[i+5:-1]:\n",
    "    for n in l.split(','):\n",
    "        sum = 0\n",
    "        for r in rulesList:\n",
    "            if int(n) not in r:\n",
    "                sum +=1\n",
    "        if(sum == len(rulesList)):\n",
    "            errorRate += int(n)\n",
    "\n",
    "print(errorRate)"
   ]
  },
  {
   "cell_type": "markdown",
   "metadata": {},
   "source": [
    "# Part Two"
   ]
  },
  {
   "cell_type": "code",
   "execution_count": 33,
   "metadata": {},
   "outputs": [],
   "source": [
    "test = True \n",
    "\n",
    "file = test_input_file if(test) else input_file\n",
    "\n",
    "with open(file, 'r') as f:\n",
    "    lines = [l.strip() for l in f.readlines()]"
   ]
  },
  {
   "cell_type": "code",
   "execution_count": 36,
   "metadata": {},
   "outputs": [
    {
     "name": "stdout",
     "output_type": "stream",
     "text": [
      "[[7, 3, 47]]\n"
     ]
    }
   ],
   "source": [
    "errorRate = 0\n",
    "rulesList = []\n",
    "rulesDict = {}\n",
    "\n",
    "for i, l in enumerate(lines):\n",
    "    if(l == ''):\n",
    "        break\n",
    "    fieldName, value = l.split(\":\")\n",
    "    fieldRules = []\n",
    "    fields = value.split('or')\n",
    "    \n",
    "    for field in fields:\n",
    "        bottom, top = field.split('-')\n",
    "        rulesList.append(list(range(int(bottom), int(top)+1)))\n",
    "        fieldRules.append(list(range(int(bottom), int(top)+1)))\n",
    "\n",
    "myTicket = [int(n) for n in lines[i+2].split(',')]\n",
    "nearbyTickets = []\n",
    "for l in lines[i+5:-1]:\n",
    "    nearbyTickets.append([int(n) for n in l.split(',')])\n",
    "\n",
    "    \n",
    "validTickets = []\n",
    "\n",
    "for t in nearbyTickets:\n",
    "    flag = 0\n",
    "    for n in t:\n",
    "        sum = 0\n",
    "        for r in rulesList:\n",
    "            if n not in r:\n",
    "                sum += 1\n",
    "                \n",
    "            if sum == len(rulesList):\n",
    "                flag = 1\n",
    "        if(flag):\n",
    "            break\n",
    "    \n",
    "    if (not flag):\n",
    "        validTickets.append(t)\n",
    "\n",
    "print(validTickets)"
   ]
  },
  {
   "cell_type": "code",
   "execution_count": 35,
   "metadata": {
    "scrolled": true
   },
   "outputs": [
    {
     "data": {
      "text/plain": [
       "[[7, 3, 47], [40, 4, 50], [55, 2, 20], [38, 6, 12]]"
      ]
     },
     "execution_count": 35,
     "metadata": {},
     "output_type": "execute_result"
    }
   ],
   "source": [
    "nearbyTickets"
   ]
  },
  {
   "cell_type": "code",
   "execution_count": null,
   "metadata": {},
   "outputs": [],
   "source": []
  }
 ],
 "metadata": {
  "kernelspec": {
   "display_name": "Python 3",
   "language": "python",
   "name": "python3"
  },
  "language_info": {
   "codemirror_mode": {
    "name": "ipython",
    "version": 3
   },
   "file_extension": ".py",
   "mimetype": "text/x-python",
   "name": "python",
   "nbconvert_exporter": "python",
   "pygments_lexer": "ipython3",
   "version": "3.7.9"
  }
 },
 "nbformat": 4,
 "nbformat_minor": 4
}
