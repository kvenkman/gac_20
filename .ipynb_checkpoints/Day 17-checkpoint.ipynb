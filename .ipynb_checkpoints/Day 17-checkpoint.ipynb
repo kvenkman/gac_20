{
 "cells": [
  {
   "cell_type": "code",
   "execution_count": 1,
   "metadata": {},
   "outputs": [],
   "source": [
    "def update_state(cell, active_cells):\n",
    "    # 26 cells around the current cell need to be checked for activity\n",
    "    n_active_cells = 0\n",
    "    \n",
    "    for i in range(-1, 2):\n",
    "        for j in range(-1, 2):\n",
    "            for k in range(-1, 2):\n",
    "                if (i, j, k) == (0, 0, 0):\n",
    "                    continue\n",
    "                \n",
    "                if (cell[0]+i, cell[1]+j, cell[2]+k) in active_cells:\n",
    "                    n_active_cells += 1\n",
    "    \n",
    "    # Check based on whether cell passed in is currently active or not\n",
    "    if cell in active_cells:\n",
    "        if ((n_active_cells == 2) or (n_active_cells == 3)):\n",
    "            return True\n",
    "    else:\n",
    "        if (n_active_cells == 3):\n",
    "            return True\n",
    "    \n",
    "    # default return is False\n",
    "    return False"
   ]
  },
  {
   "cell_type": "code",
   "execution_count": 11,
   "metadata": {},
   "outputs": [
    {
     "name": "stdout",
     "output_type": "stream",
     "text": [
      "['.#.\\n', '..#\\n', '###']\n"
     ]
    }
   ],
   "source": [
    "# input_file = 'day17_test_input'\n",
    "input_file = 'day17_test_input'\n",
    "with open(input_file, 'r') as f:\n",
    "    lines = f.readlines()\n",
    "print(lines)"
   ]
  },
  {
   "cell_type": "code",
   "execution_count": 12,
   "metadata": {},
   "outputs": [
    {
     "name": "stdout",
     "output_type": "stream",
     "text": [
      "0 -2 0 2 0 0\n",
      "True\n",
      "Current cycle: 1\n",
      "Current cycle: 2\n",
      "Current cycle: 3\n",
      "Current cycle: 4\n",
      "Current cycle: 5\n",
      "Current cycle: 6\n"
     ]
    },
    {
     "data": {
      "text/plain": [
       "112"
      ]
     },
     "execution_count": 12,
     "metadata": {},
     "output_type": "execute_result"
    }
   ],
   "source": [
    "# start by assuming that the first point read is (0, 0, 0) and everything propagates outward from it\n",
    "min_x, min_y, min_z, max_x, max_y, max_z = 0, 0, 0, 0, 0, 0\n",
    "current_active_cells = set()\n",
    "\n",
    "# start_x, start_y = 0, 0\n",
    "for j, l in enumerate(lines):\n",
    "    for i, c in enumerate(l.strip()):\n",
    "        if c == '#':\n",
    "            current_active_cells.add((i, -j, 0))\n",
    "            min_x = i if(i<min_x) else min_x\n",
    "            max_x = i if(i>max_x) else max_x\n",
    "            min_y = -j if(-j<min_y) else min_y\n",
    "            max_y = -j if(-j>max_y) else max_y\n",
    "\n",
    "print(min_x, min_y, min_z, max_x, max_y, max_z)\n",
    "#check\n",
    "print(update_state((2, -1, 0), current_active_cells))\n",
    "\n",
    "for cycle in range(6):\n",
    "    print(f\"Current cycle: {cycle+1}\")\n",
    "    \n",
    "    next_active_cells = set()\n",
    "    \n",
    "    next_min_x, next_min_y, next_min_z = min_x, min_y, min_z\n",
    "    next_max_x, next_max_y, next_max_z = max_x, max_y, max_z\n",
    "    \n",
    "    # check if currently active cells remain active\n",
    "    for i in range(min_x-1, max_x+2):\n",
    "        for j in range(min_y-1, max_y+2):\n",
    "            for k in range(min_z-1, max_z+2):\n",
    "                # print((i, j, k), update_state((i, j, k), current_active_cells))\n",
    "                if update_state((i, j, k), current_active_cells):\n",
    "                    # print((i, j, k))\n",
    "                    next_active_cells.add((i, j, k))\n",
    "                    \n",
    "                    next_min_x = i if(i<next_min_x) else next_min_x\n",
    "                    next_max_x = i if(i>next_max_x) else next_max_x\n",
    "                    next_min_y = j if(j<next_min_y) else next_min_y\n",
    "                    next_max_y = j if(j>next_max_y) else next_max_y\n",
    "                    next_min_z = k if(k<next_min_z) else next_min_z\n",
    "                    next_max_z = k if(k>next_max_z) else next_max_z\n",
    "    \n",
    "    min_x, min_y, min_z = next_min_x, next_min_y, next_min_z\n",
    "    max_x, max_y, max_z = next_max_x, next_max_y, next_max_z\n",
    "    \n",
    "    # print(next_active_cells)\n",
    "    current_active_cells = next_active_cells\n",
    "len(current_active_cells)            "
   ]
  },
  {
   "cell_type": "code",
   "execution_count": 13,
   "metadata": {},
   "outputs": [
    {
     "name": "stdout",
     "output_type": "stream",
     "text": [
      "['#.......\\n', '.#..#..#\\n', '....#.#.\\n', '.##..#.#\\n', '#######.\\n', '#...####\\n', '###.##..\\n', '.##.#.#.']\n"
     ]
    }
   ],
   "source": [
    "# input_file = 'day17_test_input'\n",
    "input_file = 'day17_input'\n",
    "with open(input_file, 'r') as f:\n",
    "    lines = f.readlines()\n",
    "print(lines)"
   ]
  },
  {
   "cell_type": "code",
   "execution_count": 14,
   "metadata": {},
   "outputs": [
    {
     "name": "stdout",
     "output_type": "stream",
     "text": [
      "0 -7 0 7 0 0\n",
      "False\n",
      "Current cycle: 1\n",
      "Current cycle: 2\n",
      "Current cycle: 3\n",
      "Current cycle: 4\n",
      "Current cycle: 5\n",
      "Current cycle: 6\n"
     ]
    },
    {
     "data": {
      "text/plain": [
       "218"
      ]
     },
     "execution_count": 14,
     "metadata": {},
     "output_type": "execute_result"
    }
   ],
   "source": [
    "# start by assuming that the first point read is (0, 0, 0) and everything propagates outward from it\n",
    "min_x, min_y, min_z, max_x, max_y, max_z = 0, 0, 0, 0, 0, 0\n",
    "current_active_cells = set()\n",
    "\n",
    "# start_x, start_y = 0, 0\n",
    "for j, l in enumerate(lines):\n",
    "    for i, c in enumerate(l.strip()):\n",
    "        if c == '#':\n",
    "            current_active_cells.add((i, -j, 0))\n",
    "            min_x = i if(i<min_x) else min_x\n",
    "            max_x = i if(i>max_x) else max_x\n",
    "            min_y = -j if(-j<min_y) else min_y\n",
    "            max_y = -j if(-j>max_y) else max_y\n",
    "\n",
    "print(min_x, min_y, min_z, max_x, max_y, max_z)\n",
    "#check\n",
    "print(update_state((2, -1, 0), current_active_cells))\n",
    "\n",
    "for cycle in range(6):\n",
    "    print(f\"Current cycle: {cycle+1}\")\n",
    "    \n",
    "    next_active_cells = set()\n",
    "    \n",
    "    next_min_x, next_min_y, next_min_z = min_x, min_y, min_z\n",
    "    next_max_x, next_max_y, next_max_z = max_x, max_y, max_z\n",
    "    \n",
    "    # check if currently active cells remain active\n",
    "    for i in range(min_x-1, max_x+2):\n",
    "        for j in range(min_y-1, max_y+2):\n",
    "            for k in range(min_z-1, max_z+2):\n",
    "                # print((i, j, k), update_state((i, j, k), current_active_cells))\n",
    "                if update_state((i, j, k), current_active_cells):\n",
    "                    # print((i, j, k))\n",
    "                    next_active_cells.add((i, j, k))\n",
    "                    \n",
    "                    next_min_x = i if(i<next_min_x) else next_min_x\n",
    "                    next_max_x = i if(i>next_max_x) else next_max_x\n",
    "                    next_min_y = j if(j<next_min_y) else next_min_y\n",
    "                    next_max_y = j if(j>next_max_y) else next_max_y\n",
    "                    next_min_z = k if(k<next_min_z) else next_min_z\n",
    "                    next_max_z = k if(k>next_max_z) else next_max_z\n",
    "    \n",
    "    min_x, min_y, min_z = next_min_x, next_min_y, next_min_z\n",
    "    max_x, max_y, max_z = next_max_x, next_max_y, next_max_z\n",
    "    \n",
    "    # print(next_active_cells)\n",
    "    current_active_cells = next_active_cells\n",
    "len(current_active_cells)            "
   ]
  },
  {
   "cell_type": "markdown",
   "metadata": {},
   "source": [
    "## Part 2 requires the same logic as before, but extended to a 4th dimension."
   ]
  },
  {
   "cell_type": "code",
   "execution_count": null,
   "metadata": {},
   "outputs": [],
   "source": [
    "def update_state(cell, active_cells):\n",
    "    # 80 cells around the current cell need to be checked for activity\n",
    "    n_active_cells = 0\n",
    "    \n",
    "    for i in range(-1, 2):\n",
    "        for j in range(-1, 2):\n",
    "            for k in range(-1, 2):\n",
    "                for l in range(-1, 2):\n",
    "                    if (i, j, k, l) == (0, 0, 0):\n",
    "                        continue\n",
    "\n",
    "                    if (cell[0]+i, cell[1]+j, cell[2]+k, cell[2]+l) in active_cells:\n",
    "                        n_active_cells += 1\n",
    "    \n",
    "    # Check based on whether cell passed in is currently active or not\n",
    "    if cell in active_cells:\n",
    "        if ((n_active_cells == 2) or (n_active_cells == 3)):\n",
    "            return True\n",
    "    else:\n",
    "        if (n_active_cells == 3):\n",
    "            return True\n",
    "    \n",
    "    # default return is False\n",
    "    return False"
   ]
  },
  {
   "cell_type": "code",
   "execution_count": null,
   "metadata": {},
   "outputs": [],
   "source": [
    "# input_file = 'day17_test_input'\n",
    "input_file = 'day17_input'\n",
    "with open(input_file, 'r') as f:\n",
    "    lines = f.readlines()\n",
    "print(lines)"
   ]
  },
  {
   "cell_type": "code",
   "execution_count": null,
   "metadata": {},
   "outputs": [],
   "source": [
    "# start by assuming that the first point read is (0, 0, 0) and everything propagates outward from it\n",
    "min_x, min_y, min_z, min_w, max_x, max_y, max_z, max_w = 0, 0, 0, 0, 0, 0, 0, 0\n",
    "current_active_cells = set()\n",
    "\n",
    "# start_x, start_y = 0, 0\n",
    "for j, l in enumerate(lines):\n",
    "    for i, c in enumerate(l.strip()):\n",
    "        if c == '#':\n",
    "            current_active_cells.add((i, -j, 0))\n",
    "            min_x = i if(i<min_x) else min_x\n",
    "            max_x = i if(i>max_x) else max_x\n",
    "            min_y = -j if(-j<min_y) else min_y\n",
    "            max_y = -j if(-j>max_y) else max_y\n",
    "\n",
    "for cycle in range(6):\n",
    "    print(f\"Current cycle: {cycle+1}\")\n",
    "    \n",
    "    next_active_cells = set()\n",
    "    \n",
    "    next_min_x, next_min_y, next_min_z = min_x, min_y, min_z\n",
    "    next_max_x, next_max_y, next_max_z = max_x, max_y, max_z\n",
    "    \n",
    "    # check if currently active cells remain active\n",
    "    for i in range(min_x-1, max_x+2):\n",
    "        for j in range(min_y-1, max_y+2):\n",
    "            for k in range(min_z-1, max_z+2):\n",
    "                # print((i, j, k), update_state((i, j, k), current_active_cells))\n",
    "                if update_state((i, j, k), current_active_cells):\n",
    "                    # print((i, j, k))\n",
    "                    next_active_cells.add((i, j, k))\n",
    "                    \n",
    "                    next_min_x = i if(i<next_min_x) else next_min_x\n",
    "                    next_max_x = i if(i>next_max_x) else next_max_x\n",
    "                    next_min_y = j if(j<next_min_y) else next_min_y\n",
    "                    next_max_y = j if(j>next_max_y) else next_max_y\n",
    "                    next_min_z = k if(k<next_min_z) else next_min_z\n",
    "                    next_max_z = k if(k>next_max_z) else next_max_z\n",
    "    \n",
    "    min_x, min_y, min_z = next_min_x, next_min_y, next_min_z\n",
    "    max_x, max_y, max_z = next_max_x, next_max_y, next_max_z\n",
    "    \n",
    "    # print(next_active_cells)\n",
    "    current_active_cells = next_active_cells\n",
    "len(current_active_cells)            "
   ]
  }
 ],
 "metadata": {
  "kernelspec": {
   "display_name": "Python 3",
   "language": "python",
   "name": "python3"
  },
  "language_info": {
   "codemirror_mode": {
    "name": "ipython",
    "version": 3
   },
   "file_extension": ".py",
   "mimetype": "text/x-python",
   "name": "python",
   "nbconvert_exporter": "python",
   "pygments_lexer": "ipython3",
   "version": "3.7.4"
  }
 },
 "nbformat": 4,
 "nbformat_minor": 2
}
