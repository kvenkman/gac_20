{
 "cells": [
  {
   "cell_type": "markdown",
   "metadata": {},
   "source": [
    "# Part One"
   ]
  },
  {
   "cell_type": "code",
   "execution_count": 17,
   "metadata": {},
   "outputs": [],
   "source": [
    "input_file, test_input_file = 'day4_input', 'day4_test_input'"
   ]
  },
  {
   "cell_type": "code",
   "execution_count": 18,
   "metadata": {},
   "outputs": [],
   "source": [
    "test = False \n",
    "file = test_input_file if(test) else input_file\n",
    "with open(file, 'r') as f:\n",
    "    lines = [l.strip() for l in f.readlines()]\n",
    "    lines += \" \"  # Add a blank line at the end to make sure final passport gets processed"
   ]
  },
  {
   "cell_type": "code",
   "execution_count": 19,
   "metadata": {},
   "outputs": [],
   "source": [
    "passport_fields_dict = {\"byr\":\"A\", \"iyr\":\"B\", \"eyr\":\"C\", \"hgt\":\"D\", \"hcl\":\"E\", \"ecl\":\"F\", \"pid\":\"G\", \"cid\":\"\"}"
   ]
  },
  {
   "cell_type": "markdown",
   "metadata": {},
   "source": [
    "The approach used here is to combine multiple lines of passport entries into a single string. The string can then\n",
    "be \"split()\" into \"key, value\" pairs, as they are separated by a blank space. We then iterate over each key, and\n",
    "develop a \"passport check\" string. If the final \"passport_check\" string is 7 characters in length, it means that we \n",
    "have a good passport and a counter is incremented. The \"cid\" key has a null string as its value, so it doesn't count against the length"
   ]
  },
  {
   "cell_type": "code",
   "execution_count": 24,
   "metadata": {
    "scrolled": true
   },
   "outputs": [
    {
     "name": "stdout",
     "output_type": "stream",
     "text": [
      "250\n"
     ]
    }
   ],
   "source": [
    "passport = \"\"\n",
    "passport_check = \"\"\n",
    "good_passports = 0\n",
    "\n",
    "for line in lines:\n",
    "    passport_fields_copy = passport_fields.copy()\n",
    "    if((line != \"\") and line != \" \"):\n",
    "        passport += line + \" \"\n",
    "    else:\n",
    "        passport = passport.split()\n",
    "        \n",
    "        for elements in passport:\n",
    "            key, value = elements.split(\":\")\n",
    "            if ((key in passport_fields_dict) and (passport_fields_dict[key] not in passport_check)):\n",
    "                passport_check += passport_fields_dict[key]\n",
    "        \n",
    "        if(len(passport_check) == 7):\n",
    "            good_passports += 1\n",
    "        passport = \"\"\n",
    "        passport_check = \"\"\n",
    "\n",
    "                \n",
    "print(good_passports)"
   ]
  },
  {
   "cell_type": "markdown",
   "metadata": {},
   "source": [
    "# Part Two"
   ]
  },
  {
   "cell_type": "code",
   "execution_count": 25,
   "metadata": {},
   "outputs": [],
   "source": [
    "input_file, test_input_file = 'day4_input', 'day4_2_test_input'"
   ]
  },
  {
   "cell_type": "code",
   "execution_count": 6,
   "metadata": {},
   "outputs": [],
   "source": [
    "# Setting up a dictionary to look up the appropriate ranges for each key\n",
    "passport_fields_dict = {\"byr\":\"A\", \"iyr\":\"B\", \"eyr\":\"C\", \"hgt\":\"D\", \"hcl\":\"E\", \"ecl\":\"F\", \"pid\":\"G\", \"cid\":\"\"}\n",
    "passport_field_ranges = {\"byr\":[1920, 2002], \"iyr\":[2010, 2020], \"eyr\":[2020, 2030], \"hgt\":[150, 193], \"hcl\":['0','1','2','3','4','5','6','7','8','9','a','b','c', 'd','e','f'], \"ecl\":['amb', 'blu', 'brn', 'gry', 'grn', 'hzl', 'oth'], \"pid\":[000000000, 999999999], \"cid\":\"\"}"
   ]
  },
  {
   "cell_type": "code",
   "execution_count": 7,
   "metadata": {},
   "outputs": [],
   "source": [
    "test = False \n",
    "file = test_input_file if(test) else input_file\n",
    "with open(file, 'r') as f:\n",
    "    lines = [l.strip() for l in f.readlines()]\n",
    "    lines += \" \" # Add a blank line at the end to make sure final passport gets processed"
   ]
  },
  {
   "cell_type": "code",
   "execution_count": 8,
   "metadata": {},
   "outputs": [
    {
     "name": "stdout",
     "output_type": "stream",
     "text": [
      "158\n"
     ]
    }
   ],
   "source": [
    "passport = \"\"\n",
    "passport_check = \"\"\n",
    "good_passports = 0\n",
    "\n",
    "for line in lines:\n",
    "    if((line != \"\") and line != \" \"):\n",
    "        passport += line + \" \"\n",
    "    else:\n",
    "        passport = passport.split()\n",
    "        \n",
    "        for elements in passport:\n",
    "            key, value = elements.split(\":\")\n",
    "            check_values = passport_field_ranges[key]\n",
    "            \n",
    "            if(len(check_values) == 0):\n",
    "                # cid field\n",
    "                passport_check += passport_fields_dict[key]\n",
    "            \n",
    "            if(len(check_values) == 16):\n",
    "                # hair color field\n",
    "                \n",
    "                value = [c for c in value]\n",
    "                \n",
    "                if(value[0]==\"#\"):\n",
    "                    hcl_sum = [1 for c in value[1:] if c in check_values]\n",
    "                    if(len(hcl_sum) == 6):\n",
    "                        passport_fields_copy.remove(key)\n",
    "                    \n",
    "            if(len(check_values) == 7):\n",
    "                # eye color\n",
    "                if value in check_values:\n",
    "                    passport_fields_copy.remove(key)\n",
    "                    \n",
    "            if(len(check_values) == 2):\n",
    "                # all fields with min max values\n",
    "                if (key == 'hgt'):\n",
    "                    if((value[-2:]  != \"cm\") and (value[-2:] != \"in\")):\n",
    "                        value = -1\n",
    "                        value_unit = \"cm\"\n",
    "                    else:\n",
    "                        value_unit = value[-2:]\n",
    "                        value = int(value[:-2])\n",
    "                        \n",
    "                    \n",
    "                    value = round(value*2.54) if (value_unit == \"in\") else value\n",
    "                \n",
    "                if (key == \"pid\"):\n",
    "                    value = int(value) if len(value) == 9 else -1\n",
    "                try:\n",
    "                    value = int(value)\n",
    "                    if (value >= check_values[0] and value <= check_values[1]):\n",
    "                        passport_fields_copy.remove(key)                \n",
    "                except ValueError:\n",
    "                    print(\"Bad passport\")\n",
    "                \n",
    "\n",
    "                \n",
    "\n",
    "        if(len(passport_fields_copy) == 0):\n",
    "            good_passports += 1\n",
    "        if((len(passport_fields_copy) == 1) and 'cid' in passport_fields_copy):\n",
    "            good_passports += 1\n",
    "        passport = \"\"\n",
    "                \n",
    "                \n",
    "                \n",
    "        \n",
    "print(good_passports)"
   ]
  },
  {
   "cell_type": "code",
   "execution_count": null,
   "metadata": {},
   "outputs": [],
   "source": []
  }
 ],
 "metadata": {
  "kernelspec": {
   "display_name": "Python 3",
   "language": "python",
   "name": "python3"
  },
  "language_info": {
   "codemirror_mode": {
    "name": "ipython",
    "version": 3
   },
   "file_extension": ".py",
   "mimetype": "text/x-python",
   "name": "python",
   "nbconvert_exporter": "python",
   "pygments_lexer": "ipython3",
   "version": "3.7.9"
  }
 },
 "nbformat": 4,
 "nbformat_minor": 4
}
