{
 "cells": [
  {
   "cell_type": "code",
   "execution_count": 2,
   "metadata": {},
   "outputs": [],
   "source": [
    "input_file, test_input_file = 'day1_input', 'day1_test_input'"
   ]
  },
  {
   "cell_type": "markdown",
   "metadata": {},
   "source": [
    "# Part One"
   ]
  },
  {
   "cell_type": "code",
   "execution_count": 3,
   "metadata": {},
   "outputs": [],
   "source": [
    "test = True \n",
    "\n",
    "file = test_input_file if(test) else input_file\n",
    "\n",
    "with open(file, 'r') as f:\n",
    "    lines = [l.strip() for l in f.readlines()]"
   ]
  },
  {
   "cell_type": "code",
   "execution_count": 11,
   "metadata": {},
   "outputs": [
    {
     "name": "stdout",
     "output_type": "stream",
     "text": [
      "73371\n"
     ]
    }
   ],
   "source": [
    "num_set = set()\n",
    "for line in lines:\n",
    "    n = int(line)\n",
    "    if 2020-n in num_set:\n",
    "        print(n*(2020-n))\n",
    "        break\n",
    "    else:\n",
    "        num_set.add(n)"
   ]
  },
  {
   "cell_type": "markdown",
   "metadata": {},
   "source": [
    "# Part Two"
   ]
  },
  {
   "cell_type": "code",
   "execution_count": 6,
   "metadata": {},
   "outputs": [],
   "source": [
    "test = False \n",
    "\n",
    "file = test_input_file if(test) else input_file\n",
    "\n",
    "with open(file, 'r') as f:\n",
    "    lines = [l.strip() for l in f.readlines()]"
   ]
  },
  {
   "cell_type": "code",
   "execution_count": 7,
   "metadata": {},
   "outputs": [
    {
     "name": "stdout",
     "output_type": "stream",
     "text": [
      "127642310\n"
     ]
    }
   ],
   "source": [
    "num_set = set()\n",
    "sum_dict = {}\n",
    "\n",
    "for line in lines:\n",
    "    n = int(line)\n",
    "    if (2020 - n in sum_dict):\n",
    "        print(n*sum_dict[2020-n][0]*sum_dict[2020-n][1])\n",
    "        break\n",
    "    else:\n",
    "        for item in num_set:\n",
    "            sum_dict[item+n] = [item, n]\n",
    "        num_set.add(n)\n"
   ]
  },
  {
   "cell_type": "markdown",
   "metadata": {},
   "source": [
    "In this approach, you iterate over the growing elements of num_set each time to populate sum_dict - leading to an exponential growth in computational effort (the sum 1 + 2 + 3 ... N is on the order of N^2). Can this be reduced?"
   ]
  },
  {
   "cell_type": "code",
   "execution_count": 8,
   "metadata": {},
   "outputs": [],
   "source": [
    "import timeit"
   ]
  },
  {
   "cell_type": "code",
   "execution_count": null,
   "metadata": {},
   "outputs": [],
   "source": [
    "# I want to time the execution of each approach for fun\n",
    "# Original approach\n",
    "num_set = set()\n",
    "sum_dict = {}\n",
    "\n",
    "for line in lines:\n",
    "    n = int(line)\n",
    "    if (2020 - n in sum_dict):\n",
    "        print(n*sum_dict[2020-n][0]*sum_dict[2020-n][1])\n",
    "        break\n",
    "    else:\n",
    "        for item in num_set:\n",
    "            sum_dict[item+n] = [item, n]\n",
    "        num_set.add(n)\n"
   ]
  }
 ],
 "metadata": {
  "kernelspec": {
   "display_name": "Python 3",
   "language": "python",
   "name": "python3"
  },
  "language_info": {
   "codemirror_mode": {
    "name": "ipython",
    "version": 3
   },
   "file_extension": ".py",
   "mimetype": "text/x-python",
   "name": "python",
   "nbconvert_exporter": "python",
   "pygments_lexer": "ipython3",
   "version": "3.7.9"
  }
 },
 "nbformat": 4,
 "nbformat_minor": 4
}
