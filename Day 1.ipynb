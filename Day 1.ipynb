{
 "cells": [
  {
   "cell_type": "markdown",
   "metadata": {},
   "source": [
    "# Part One"
   ]
  },
  {
   "cell_type": "code",
   "execution_count": 1,
   "metadata": {},
   "outputs": [],
   "source": [
    "import numpy\n",
    "import os\n",
    "import glob"
   ]
  },
  {
   "cell_type": "code",
   "execution_count": 2,
   "metadata": {},
   "outputs": [],
   "source": [
    "input_file = 'day1_input'\n",
    "with open(input_file, 'r') as f:\n",
    "    lines = f.readlines()"
   ]
  },
  {
   "cell_type": "code",
   "execution_count": 3,
   "metadata": {},
   "outputs": [],
   "source": [
    "num_set = set()"
   ]
  },
  {
   "cell_type": "code",
   "execution_count": 4,
   "metadata": {},
   "outputs": [
    {
     "name": "stdout",
     "output_type": "stream",
     "text": [
      "73371\n"
     ]
    }
   ],
   "source": [
    "for line in lines:\n",
    "    n = int(line)\n",
    "    if 2020-n in num_set:\n",
    "        print(n*(2020-n))\n",
    "        break\n",
    "    else:\n",
    "        num_set.add(n)"
   ]
  },
  {
   "cell_type": "markdown",
   "metadata": {},
   "source": [
    "# Part Two"
   ]
  },
  {
   "cell_type": "code",
   "execution_count": 5,
   "metadata": {},
   "outputs": [
    {
     "name": "stdout",
     "output_type": "stream",
     "text": [
      "127642310\n"
     ]
    }
   ],
   "source": [
    "num_set = set()\n",
    "sum_dict = {}\n",
    "\n",
    "for line in lines:\n",
    "    n = int(line)\n",
    "    if (2020 - n in sum_dict):\n",
    "        print(n*sum_dict[2020-n][0]*sum_dict[2020-n][1])\n",
    "        break\n",
    "    else:\n",
    "        for item in num_set:\n",
    "            sum_dict[item+n] = [item, n]\n",
    "        num_set.add(n)\n"
   ]
  }
 ],
 "metadata": {
  "kernelspec": {
   "display_name": "Python 3",
   "language": "python",
   "name": "python3"
  },
  "language_info": {
   "codemirror_mode": {
    "name": "ipython",
    "version": 3
   },
   "file_extension": ".py",
   "mimetype": "text/x-python",
   "name": "python",
   "nbconvert_exporter": "python",
   "pygments_lexer": "ipython3",
   "version": "3.7.9"
  }
 },
 "nbformat": 4,
 "nbformat_minor": 4
}
