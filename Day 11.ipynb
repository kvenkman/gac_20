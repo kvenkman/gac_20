{
 "cells": [
  {
   "cell_type": "markdown",
   "metadata": {},
   "source": [
    "# Part One"
   ]
  },
  {
   "cell_type": "code",
   "execution_count": 1,
   "metadata": {},
   "outputs": [],
   "source": [
    "input_file, test_input_file = 'day11_input', 'day11_test_input'"
   ]
  },
  {
   "cell_type": "code",
   "execution_count": 2,
   "metadata": {},
   "outputs": [],
   "source": [
    "test = False \n",
    "\n",
    "file = test_input_file if(test) else input_file\n",
    "\n",
    "with open(file, 'r') as f:\n",
    "    lines = [list(l.strip()) for l in f.readlines()]"
   ]
  },
  {
   "cell_type": "code",
   "execution_count": 3,
   "metadata": {},
   "outputs": [],
   "source": [
    "seatDict = {}\n",
    "\n",
    "count = 0\n",
    "for i, r in enumerate(lines):\n",
    "    for j, c in enumerate(r):\n",
    "            seatDict[(i, j)] = c\n"
   ]
  },
  {
   "cell_type": "code",
   "execution_count": 4,
   "metadata": {},
   "outputs": [],
   "source": [
    "def updateState(key, seatDict):\n",
    "    totalOccupancy = 0\n",
    "    for i in range(-1+key[0], 2+key[0]):\n",
    "        for j in range (-1+key[1], 2+key[1]):\n",
    "            if(((i, j) == key) or ((i,j) not in seatDict)):\n",
    "                pass\n",
    "            else:\n",
    "                totalOccupancy += 1 if(seatDict[(i, j)] == '#') else 0\n",
    "    \n",
    "    if seatDict[key] == '#':\n",
    "        if totalOccupancy >= 4:\n",
    "            return 'L'\n",
    "        else:\n",
    "            return '#'\n",
    "    else:\n",
    "        if totalOccupancy == 0:\n",
    "            return '#'\n",
    "        else:\n",
    "            return 'L'"
   ]
  },
  {
   "cell_type": "code",
   "execution_count": 5,
   "metadata": {},
   "outputs": [
    {
     "name": "stdout",
     "output_type": "stream",
     "text": [
      "2424 2424\n"
     ]
    }
   ],
   "source": [
    "prevOccupied = 0\n",
    "\n",
    "while True:\n",
    "    currentOccupied = 0\n",
    "    newDict = {}\n",
    "    \n",
    "    for key, value in seatDict.items():\n",
    "        if value != '.':\n",
    "            newDict[key] = updateState(key, seatDict)\n",
    "            currentOccupied += 1 if (newDict[key] == '#') else 0\n",
    "        else:\n",
    "            newDict[key] = '.'\n",
    "    \n",
    "    if (prevOccupied == currentOccupied):\n",
    "        break\n",
    "    prevOccupied = currentOccupied\n",
    "    seatDict = newDict    \n",
    "    \n",
    "print(prevOccupied, currentOccupied)"
   ]
  },
  {
   "cell_type": "markdown",
   "metadata": {},
   "source": [
    "# Part Two"
   ]
  },
  {
   "cell_type": "code",
   "execution_count": 6,
   "metadata": {},
   "outputs": [],
   "source": [
    "test = False \n",
    "\n",
    "file = test_input_file if(test) else input_file\n",
    "\n",
    "with open(file, 'r') as f:\n",
    "    lines = [list(l.strip()) for l in f.readlines()]"
   ]
  },
  {
   "cell_type": "code",
   "execution_count": 7,
   "metadata": {},
   "outputs": [],
   "source": [
    "seatDict = {}\n",
    "\n",
    "count = 0\n",
    "for i, r in enumerate(lines):\n",
    "    for j, c in enumerate(r):\n",
    "            seatDict[(i, j)] = c"
   ]
  },
  {
   "cell_type": "code",
   "execution_count": 8,
   "metadata": {},
   "outputs": [],
   "source": [
    "def updateState(key, seatDict):\n",
    "    totalOccupancy = 0\n",
    "    directions = [(0, 1), (0, -1), (1, 0), (-1, 0), (1, 1), (-1, 1), (1, -1), (-1, -1)]\n",
    "    \n",
    "    for direction in directions:\n",
    "        r, c = key[0], key[1]\n",
    "        while True:\n",
    "            r += direction[0]\n",
    "            c += direction[1]\n",
    "            \n",
    "            seat = (r, c)\n",
    "            if (seat not in seatDict):\n",
    "                break\n",
    "            \n",
    "            if seatDict[seat] == '.':\n",
    "                continue\n",
    "                \n",
    "            totalOccupancy += 1 if(seatDict[seat] == '#') else 0\n",
    "            break\n",
    "            \n",
    "    \n",
    "    if seatDict[key] == '#':\n",
    "        if totalOccupancy >= 5:\n",
    "            return 'L'\n",
    "        else:\n",
    "            return '#'\n",
    "    else:\n",
    "        if totalOccupancy == 0:\n",
    "            return '#'\n",
    "        else:\n",
    "            return 'L'"
   ]
  },
  {
   "cell_type": "code",
   "execution_count": 9,
   "metadata": {},
   "outputs": [
    {
     "name": "stdout",
     "output_type": "stream",
     "text": [
      "2208\n"
     ]
    }
   ],
   "source": [
    "prevOccupied = 0\n",
    "\n",
    "while True:\n",
    "    currentOccupied = 0\n",
    "    newDict = {}\n",
    "    \n",
    "    for key, value in seatDict.items():\n",
    "        if value != '.':\n",
    "            newDict[key] = updateState(key, seatDict)\n",
    "            currentOccupied += 1 if (newDict[key] == '#') else 0\n",
    "        else:\n",
    "            newDict[key] = '.'\n",
    "    \n",
    "    if (prevOccupied == currentOccupied):\n",
    "        break\n",
    "    prevOccupied = currentOccupied\n",
    "    seatDict = newDict\n",
    "    \n",
    "    \n",
    "print(currentOccupied)"
   ]
  }
 ],
 "metadata": {
  "kernelspec": {
   "display_name": "Python 3",
   "language": "python",
   "name": "python3"
  },
  "language_info": {
   "codemirror_mode": {
    "name": "ipython",
    "version": 3
   },
   "file_extension": ".py",
   "mimetype": "text/x-python",
   "name": "python",
   "nbconvert_exporter": "python",
   "pygments_lexer": "ipython3",
   "version": "3.7.9"
  }
 },
 "nbformat": 4,
 "nbformat_minor": 4
}
