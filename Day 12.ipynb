{
 "cells": [
  {
   "cell_type": "markdown",
   "metadata": {},
   "source": [
    "# Part One"
   ]
  },
  {
   "cell_type": "code",
   "execution_count": 36,
   "metadata": {},
   "outputs": [],
   "source": [
    "input_file, test_input_file = 'day12_input', 'day12_test_input'"
   ]
  },
  {
   "cell_type": "code",
   "execution_count": 38,
   "metadata": {},
   "outputs": [],
   "source": [
    "test = False \n",
    "\n",
    "file = test_input_file if(test) else input_file\n",
    "\n",
    "with open(file, 'r') as f:\n",
    "    lines = [(l[0], int(''.join(l[1:]))) for l in f.readlines() if l != \"\\n\"]"
   ]
  },
  {
   "cell_type": "code",
   "execution_count": 39,
   "metadata": {},
   "outputs": [],
   "source": [
    "directionsDict = {\"N\":(0, 1), \"E\":(1, 0), \"W\":(-1, 0), \"S\":(0, -1), \"F\":()}\n",
    "angleDict = {0:\"N\", 90:\"E\", 180:\"S\", 270:\"W\"}"
   ]
  },
  {
   "cell_type": "code",
   "execution_count": 41,
   "metadata": {},
   "outputs": [
    {
     "name": "stdout",
     "output_type": "stream",
     "text": [
      "1838\n"
     ]
    }
   ],
   "source": [
    "currentCoordinates = [0, 0]\n",
    "currentDirectionAngle = 90\n",
    "currentDirection = angleDict[currentDirectionAngle]\n",
    "\n",
    "for l in lines:\n",
    "    d, v = l[0], l[1]\n",
    "    if d in directionsDict : \n",
    "        move = directionsDict[currentDirection] if (d == 'F') else directionsDict[d]\n",
    "        currentCoordinates[0] += v*move[0]\n",
    "        currentCoordinates[1] += v*move[1]\n",
    "    else:\n",
    "        rotation = 1 if(d == 'R') else -1\n",
    "        currentDirectionAngle += rotation*v\n",
    "        currentDirectionAngle %= 360\n",
    "        currentDirection = angleDict[currentDirectionAngle]\n",
    "    \n",
    "    #print(currentCoordinates)\n",
    "        \n",
    "\n",
    "print(abs(currentCoordinates[0]) + abs(currentCoordinates[1]))"
   ]
  },
  {
   "cell_type": "markdown",
   "metadata": {},
   "source": [
    "# Part Two"
   ]
  },
  {
   "cell_type": "code",
   "execution_count": 61,
   "metadata": {},
   "outputs": [],
   "source": [
    "import numpy as np"
   ]
  },
  {
   "cell_type": "code",
   "execution_count": 68,
   "metadata": {},
   "outputs": [],
   "source": [
    "test = False \n",
    "\n",
    "file = test_input_file if(test) else input_file\n",
    "\n",
    "with open(file, 'r') as f:\n",
    "    lines = [(l[0], int(''.join(l[1:]))) for l in f.readlines() if l != \"\\n\"]"
   ]
  },
  {
   "cell_type": "code",
   "execution_count": 69,
   "metadata": {},
   "outputs": [],
   "source": [
    "directionsDict = {\"N\":(0, 1), \"E\":(1, 0), \"W\":(-1, 0), \"S\":(0, -1)}\n",
    "angleDict = {0:\"N\", 90:\"E\", 180:\"S\", 270:\"W\"}"
   ]
  },
  {
   "cell_type": "code",
   "execution_count": null,
   "metadata": {},
   "outputs": [],
   "source": [
    "waypoint = [10, 1]\n",
    "currentCoordinates = [0, 0]\n",
    "currentDirectionAngle = 90\n",
    "currentDirection = angleDict[currentDirectionAngle]\n",
    "\n",
    "for l in lines:\n",
    "    d, v = l[0], l[1]\n",
    "    \n",
    "    if d == 'F':\n",
    "        currentCoordinates[0] += v*waypoint[0]\n",
    "        currentCoordinates[1] += v*waypoint[1]\n",
    "    \n",
    "    else:\n",
    "        if d in directionsDict : \n",
    "            move = directionsDict[d]\n",
    "            waypoint[0] += v*move[0]\n",
    "            waypoint[1] += v*move[1]\n",
    "        else:\n",
    "            \n",
    "            # convert to clockwise only rotation\n",
    "            rotation = v%360\n",
    "            rotation = 360 - rotation if d == \"L\" else rotation\n",
    "            \n",
    "            c = int(np.cos(np.radians(rotation)))\n",
    "            s = int(np.sin(np.radians(rotation)))\n",
    "            \n",
    "            x = waypoint[0] * c +  waypoint[1]* s\n",
    "            y = -waypoint[0] * s +  waypoint[1]* c;\n",
    "            \n",
    "            waypoint[0] = x\n",
    "            waypoint[1] = y\n",
    "            \n",
    "    print(d, v, currentCoordinates, waypoint)\n",
    "        \n",
    "\n",
    "print(abs(currentCoordinates[0]) + abs(currentCoordinates[1]))"
   ]
  },
  {
   "cell_type": "code",
   "execution_count": null,
   "metadata": {},
   "outputs": [],
   "source": []
  }
 ],
 "metadata": {
  "kernelspec": {
   "display_name": "Python 3",
   "language": "python",
   "name": "python3"
  },
  "language_info": {
   "codemirror_mode": {
    "name": "ipython",
    "version": 3
   },
   "file_extension": ".py",
   "mimetype": "text/x-python",
   "name": "python",
   "nbconvert_exporter": "python",
   "pygments_lexer": "ipython3",
   "version": "3.7.9"
  }
 },
 "nbformat": 4,
 "nbformat_minor": 4
}
