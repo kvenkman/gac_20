{
 "cells": [
  {
   "cell_type": "markdown",
   "metadata": {},
   "source": [
    "# Part One"
   ]
  },
  {
   "cell_type": "code",
   "execution_count": 21,
   "metadata": {},
   "outputs": [],
   "source": [
    "input_file, test_input_file = 'day13_input', 'day13_test_input'"
   ]
  },
  {
   "cell_type": "code",
   "execution_count": 25,
   "metadata": {},
   "outputs": [],
   "source": [
    "test = False \n",
    "\n",
    "file = test_input_file if(test) else input_file\n",
    "\n",
    "with open(file, 'r') as f:\n",
    "    lines = [l.strip() for l in f.readlines()]"
   ]
  },
  {
   "cell_type": "code",
   "execution_count": 26,
   "metadata": {},
   "outputs": [
    {
     "name": "stdout",
     "output_type": "stream",
     "text": [
      "4808\n"
     ]
    }
   ],
   "source": [
    "startTime, dTime = int(lines[0]), int(lines[0])\n",
    "busID = [int(l) for l in lines[1].split(',') if l != 'x']\n",
    "\n",
    "flag = 0 \n",
    "while not flag:\n",
    "    for id in busID:\n",
    "        if (dTime % id) == 0:\n",
    "            print(id*(dTime - startTime))\n",
    "            flag = 1\n",
    "            break\n",
    "    dTime += 1\n",
    "    "
   ]
  },
  {
   "cell_type": "markdown",
   "metadata": {},
   "source": [
    "# Part Two"
   ]
  },
  {
   "cell_type": "code",
   "execution_count": 152,
   "metadata": {},
   "outputs": [],
   "source": [
    "test = False\n",
    "\n",
    "file = test_input_file if(test) else input_file\n",
    "\n",
    "with open(file, 'r') as f:\n",
    "    lines = [l.strip() for l in f.readlines()]\n",
    "    \n",
    "if(test):\n",
    "    startTime = 1\n",
    "else:\n",
    "    startTime = 100000000000000"
   ]
  },
  {
   "cell_type": "code",
   "execution_count": 153,
   "metadata": {},
   "outputs": [],
   "source": [
    "offsetDict = {}\n",
    "busDepartures = {}\n",
    "busList = []\n",
    "offset = 0\n",
    "\n",
    "for l in lines[1].split(','):\n",
    "    if l != 'x':\n",
    "        offsetDict[int(l)] = offset\n",
    "        busList.append(int(l))\n",
    "        \n",
    "    offset += 1\n",
    "    \n",
    "maxBus, maxBusOffset = max(busList), offsetDict[max(busList)]\n",
    "\n",
    "for k, v in offsetDict.items():\n",
    "    offsetDict[k] = v - maxBusOffset\n",
    "    \n",
    "minBusOffset = min(offsetDict.values())"
   ]
  },
  {
   "cell_type": "code",
   "execution_count": 154,
   "metadata": {},
   "outputs": [
    {
     "name": "stdout",
     "output_type": "stream",
     "text": [
      "100000000000282\n"
     ]
    }
   ],
   "source": [
    "while True:\n",
    "    if(startTime % maxBus == 0):\n",
    "        break\n",
    "    startTime += 1\n",
    "\n",
    "print(startTime)"
   ]
  },
  {
   "cell_type": "code",
   "execution_count": 155,
   "metadata": {
    "scrolled": true
   },
   "outputs": [
    {
     "data": {
      "text/plain": [
       "{29: -29, 41: -10, 601: 0, 23: 8, 13: 13, 17: 17, 19: 19, 463: 31, 37: 68}"
      ]
     },
     "execution_count": 155,
     "metadata": {},
     "output_type": "execute_result"
    }
   ],
   "source": [
    "offsetDict"
   ]
  },
  {
   "cell_type": "code",
   "execution_count": 156,
   "metadata": {},
   "outputs": [
    {
     "data": {
      "text/plain": [
       "100000000000282"
      ]
     },
     "execution_count": 156,
     "metadata": {},
     "output_type": "execute_result"
    }
   ],
   "source": [
    "startTime"
   ]
  },
  {
   "cell_type": "code",
   "execution_count": 157,
   "metadata": {
    "scrolled": true
   },
   "outputs": [
    {
     "ename": "KeyboardInterrupt",
     "evalue": "",
     "output_type": "error",
     "traceback": [
      "\u001b[0;31m---------------------------------------------------------------------------\u001b[0m",
      "\u001b[0;31mKeyboardInterrupt\u001b[0m                         Traceback (most recent call last)",
      "\u001b[0;32m<ipython-input-157-57da212a748e>\u001b[0m in \u001b[0;36m<module>\u001b[0;34m\u001b[0m\n\u001b[1;32m      3\u001b[0m     \u001b[0msum\u001b[0m \u001b[0;34m=\u001b[0m \u001b[0;36m0\u001b[0m\u001b[0;34m\u001b[0m\u001b[0;34m\u001b[0m\u001b[0m\n\u001b[1;32m      4\u001b[0m     \u001b[0;32mfor\u001b[0m \u001b[0mid\u001b[0m \u001b[0;32min\u001b[0m \u001b[0mbusList\u001b[0m\u001b[0;34m:\u001b[0m\u001b[0;34m\u001b[0m\u001b[0;34m\u001b[0m\u001b[0m\n\u001b[0;32m----> 5\u001b[0;31m         \u001b[0mbusDeparture\u001b[0m \u001b[0;34m=\u001b[0m \u001b[0mstartTime\u001b[0m \u001b[0;34m+\u001b[0m \u001b[0moffsetDict\u001b[0m\u001b[0;34m[\u001b[0m\u001b[0mid\u001b[0m\u001b[0;34m]\u001b[0m\u001b[0;34m\u001b[0m\u001b[0;34m\u001b[0m\u001b[0m\n\u001b[0m\u001b[1;32m      6\u001b[0m         \u001b[0msum\u001b[0m \u001b[0;34m+=\u001b[0m \u001b[0;36m1\u001b[0m \u001b[0;32mif\u001b[0m \u001b[0;34m(\u001b[0m\u001b[0mbusDeparture\u001b[0m \u001b[0;34m%\u001b[0m \u001b[0mid\u001b[0m \u001b[0;34m==\u001b[0m \u001b[0;36m0\u001b[0m\u001b[0;34m)\u001b[0m \u001b[0;32melse\u001b[0m \u001b[0;36m0\u001b[0m\u001b[0;34m\u001b[0m\u001b[0;34m\u001b[0m\u001b[0m\n\u001b[1;32m      7\u001b[0m \u001b[0;34m\u001b[0m\u001b[0m\n",
      "\u001b[0;31mKeyboardInterrupt\u001b[0m: "
     ]
    }
   ],
   "source": [
    "flag = 0 \n",
    "while True:\n",
    "    sum = 0\n",
    "    for id in busList:\n",
    "        busDeparture = startTime + offsetDict[id]\n",
    "        sum += 1 if (busDeparture % id == 0) else 0\n",
    "    \n",
    "    if sum == len(busList):\n",
    "        print(startTime+minBusOffset)\n",
    "        break\n",
    "    \n",
    "    startTime += maxBus"
   ]
  }
 ],
 "metadata": {
  "kernelspec": {
   "display_name": "Python 3",
   "language": "python",
   "name": "python3"
  },
  "language_info": {
   "codemirror_mode": {
    "name": "ipython",
    "version": 3
   },
   "file_extension": ".py",
   "mimetype": "text/x-python",
   "name": "python",
   "nbconvert_exporter": "python",
   "pygments_lexer": "ipython3",
   "version": "3.7.9"
  }
 },
 "nbformat": 4,
 "nbformat_minor": 4
}
