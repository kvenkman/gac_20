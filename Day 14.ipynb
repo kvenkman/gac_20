{
 "cells": [
  {
   "cell_type": "markdown",
   "metadata": {},
   "source": [
    "# Part One"
   ]
  },
  {
   "cell_type": "code",
   "execution_count": 30,
   "metadata": {},
   "outputs": [],
   "source": [
    "input_file, test_input_file = 'day14_input', 'day14_test_input'"
   ]
  },
  {
   "cell_type": "code",
   "execution_count": 31,
   "metadata": {},
   "outputs": [],
   "source": [
    "test = False \n",
    "\n",
    "file = test_input_file if(test) else input_file\n",
    "\n",
    "with open(file, 'r') as f:\n",
    "    lines = [l.strip() for l in f.readlines()]"
   ]
  },
  {
   "cell_type": "code",
   "execution_count": 32,
   "metadata": {},
   "outputs": [],
   "source": [
    "memory = {}\n",
    "\n",
    "for l in lines:\n",
    "    if l.find(\"mask\") != -1:\n",
    "        mask = list(l.split()[2])\n",
    "        zero_mask = [i for i, c in enumerate(mask) if c == '0']\n",
    "        one_mask = [i for i, c in enumerate(mask) if c == '1']\n",
    "    else:\n",
    "        sidx, eidx = l.find(\"[\")+1, l.find(\"]\")\n",
    "        memLoc = int(l[sidx:eidx])\n",
    "        value = int(l.split()[2])\n",
    "        \n",
    "        value = list(str(bin(value))[2:].zfill(36))\n",
    "        for idx in zero_mask:\n",
    "            value[idx] = '0'\n",
    "        for idx in one_mask:\n",
    "            value[idx] = '1'\n",
    "        value = int(''.join(value), 2)\n",
    "        memory[memLoc] = value\n",
    "\n",
    "        "
   ]
  },
  {
   "cell_type": "code",
   "execution_count": 33,
   "metadata": {},
   "outputs": [
    {
     "name": "stdout",
     "output_type": "stream",
     "text": [
      "15919415426101\n"
     ]
    }
   ],
   "source": [
    "sum = 0\n",
    "for _, v in memory.items():\n",
    "    sum += v\n",
    "    \n",
    "print(sum)"
   ]
  },
  {
   "cell_type": "markdown",
   "metadata": {},
   "source": [
    "# Part Two"
   ]
  },
  {
   "cell_type": "code",
   "execution_count": 113,
   "metadata": {},
   "outputs": [],
   "source": [
    "test = False \n",
    "\n",
    "file = test_input_file if(test) else input_file\n",
    "\n",
    "with open(file, 'r') as f:\n",
    "    lines = [l.strip() for l in f.readlines()]"
   ]
  },
  {
   "cell_type": "code",
   "execution_count": 114,
   "metadata": {},
   "outputs": [],
   "source": [
    "memory = {}\n",
    "\n",
    "for l in lines:\n",
    "    if l.find(\"mask\") != -1:\n",
    "        mask = list(l.split()[2])\n",
    "        one_mask = [i for i, c in enumerate(mask) if c == '1']\n",
    "        x_mask = [i for i, c in enumerate(mask) if c == 'X']\n",
    "    else:\n",
    "        value = int(l.split()[2])\n",
    "\n",
    "        sidx, eidx = l.find(\"[\")+1, l.find(\"]\")\n",
    "        memLoc = int(l[sidx:eidx])\n",
    "        memLoc = list(str(bin(memLoc))[2:].zfill(36))\n",
    "        \n",
    "        for idx in one_mask:\n",
    "            memLoc[idx] = '1'\n",
    "            \n",
    "        for idx in range(2**len(x_mask)):\n",
    "            idx_bin = (str(bin(idx))[2:]).zfill(len(x_mask))\n",
    "            memLoc_cpy = memLoc.copy()\n",
    "            \n",
    "            for i, c in enumerate(x_mask):\n",
    "                memLoc_cpy[c] = idx_bin[i]\n",
    "                \n",
    "            memValue = int(''.join(memLoc_cpy), 2)\n",
    "            memory[memValue] = value\n",
    "            "
   ]
  },
  {
   "cell_type": "code",
   "execution_count": 115,
   "metadata": {},
   "outputs": [
    {
     "name": "stdout",
     "output_type": "stream",
     "text": [
      "3443997590975\n"
     ]
    }
   ],
   "source": [
    "sum = 0\n",
    "for _, v in memory.items():\n",
    "    sum += v\n",
    "    \n",
    "print(sum)"
   ]
  },
  {
   "cell_type": "code",
   "execution_count": null,
   "metadata": {},
   "outputs": [],
   "source": []
  }
 ],
 "metadata": {
  "kernelspec": {
   "display_name": "Python 3",
   "language": "python",
   "name": "python3"
  },
  "language_info": {
   "codemirror_mode": {
    "name": "ipython",
    "version": 3
   },
   "file_extension": ".py",
   "mimetype": "text/x-python",
   "name": "python",
   "nbconvert_exporter": "python",
   "pygments_lexer": "ipython3",
   "version": "3.7.9"
  }
 },
 "nbformat": 4,
 "nbformat_minor": 4
}
