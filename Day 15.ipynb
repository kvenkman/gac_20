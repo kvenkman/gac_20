{
 "cells": [
  {
   "cell_type": "markdown",
   "metadata": {},
   "source": [
    "# Part One"
   ]
  },
  {
   "cell_type": "code",
   "execution_count": 111,
   "metadata": {},
   "outputs": [],
   "source": [
    "input_file, test_input_file = 'day15_input', 'day15_test_input'"
   ]
  },
  {
   "cell_type": "code",
   "execution_count": 112,
   "metadata": {},
   "outputs": [],
   "source": [
    "test = False \n",
    "\n",
    "file = test_input_file if(test) else input_file\n",
    "\n",
    "with open(file, 'r') as f:\n",
    "    lines = f.readlines()[0]\n",
    "    \n",
    "lines = [int(x) for x in lines.split(',')]"
   ]
  },
  {
   "cell_type": "code",
   "execution_count": 114,
   "metadata": {},
   "outputs": [
    {
     "name": "stdout",
     "output_type": "stream",
     "text": [
      "{7: (0, 1), 14: (0, 2), 0: (0, 3), 17: (0, 4), 11: (0, 5), 1: (0, 6), 2: (0, 7)}\n",
      "2021 206 206\n"
     ]
    }
   ],
   "source": [
    "numberDict = {}\n",
    "\n",
    "for i, n in enumerate(lines):\n",
    "    numberDict[n] = (0, i+1)\n",
    "\n",
    "lastSpoken = n\n",
    "count = len(numberDict) + 1\n",
    "print(numberDict)\n",
    "while count < 2021:\n",
    "    \n",
    "    if numberDict[lastSpoken][0] == 0 : \n",
    "        spoken = 0\n",
    "        if spoken in numberDict:\n",
    "            new_tuple = (numberDict[spoken][1], count)\n",
    "        else:\n",
    "            new_tuple = (0, count)\n",
    "        numberDict[spoken] = new_tuple\n",
    "        \n",
    "    else:\n",
    "        spoken = numberDict[lastSpoken][1] - numberDict[lastSpoken][0]\n",
    "        if spoken not in numberDict:\n",
    "            numberDict[spoken] = (0, count)\n",
    "        else:\n",
    "            new_tuple = (numberDict[spoken][1], count)\n",
    "            numberDict[spoken] = new_tuple\n",
    "    \n",
    "    lastSpoken = spoken\n",
    "    # print(count, spoken)\n",
    "    count += 1\n",
    "    \n",
    "#print(numberDict)    \n",
    "print(count, lastSpoken, spoken)"
   ]
  },
  {
   "cell_type": "markdown",
   "metadata": {},
   "source": [
    "# Part Two"
   ]
  },
  {
   "cell_type": "code",
   "execution_count": 116,
   "metadata": {},
   "outputs": [],
   "source": [
    "test = False \n",
    "\n",
    "file = test_input_file if(test) else input_file\n",
    "\n",
    "with open(file, 'r') as f:\n",
    "    lines = f.readlines()[0]\n",
    "    \n",
    "lines = [int(x) for x in lines.split(',')]"
   ]
  },
  {
   "cell_type": "code",
   "execution_count": 117,
   "metadata": {},
   "outputs": [
    {
     "name": "stdout",
     "output_type": "stream",
     "text": [
      "{7: (0, 1), 14: (0, 2), 0: (0, 3), 17: (0, 4), 11: (0, 5), 1: (0, 6), 2: (0, 7)}\n",
      "30000001 955 955\n"
     ]
    }
   ],
   "source": [
    "numberDict = {}\n",
    "\n",
    "for i, n in enumerate(lines):\n",
    "    numberDict[n] = (0, i+1)\n",
    "\n",
    "lastSpoken = n\n",
    "count = len(numberDict) + 1\n",
    "print(numberDict)\n",
    "while count < 30000001:\n",
    "    \n",
    "    if numberDict[lastSpoken][0] == 0 : \n",
    "        spoken = 0\n",
    "        if spoken in numberDict:\n",
    "            new_tuple = (numberDict[spoken][1], count)\n",
    "        else:\n",
    "            new_tuple = (0, count)\n",
    "        numberDict[spoken] = new_tuple\n",
    "        \n",
    "    else:\n",
    "        spoken = numberDict[lastSpoken][1] - numberDict[lastSpoken][0]\n",
    "        if spoken not in numberDict:\n",
    "            numberDict[spoken] = (0, count)\n",
    "        else:\n",
    "            new_tuple = (numberDict[spoken][1], count)\n",
    "            numberDict[spoken] = new_tuple\n",
    "    \n",
    "    lastSpoken = spoken\n",
    "    # print(count, spoken)\n",
    "    count += 1\n",
    "    \n",
    "#print(numberDict)    \n",
    "print(count, lastSpoken, spoken)"
   ]
  }
 ],
 "metadata": {
  "kernelspec": {
   "display_name": "Python 3",
   "language": "python",
   "name": "python3"
  },
  "language_info": {
   "codemirror_mode": {
    "name": "ipython",
    "version": 3
   },
   "file_extension": ".py",
   "mimetype": "text/x-python",
   "name": "python",
   "nbconvert_exporter": "python",
   "pygments_lexer": "ipython3",
   "version": "3.7.9"
  }
 },
 "nbformat": 4,
 "nbformat_minor": 4
}
