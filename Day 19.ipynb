{
 "cells": [
  {
   "cell_type": "markdown",
   "metadata": {},
   "source": [
    "# Part One"
   ]
  },
  {
   "cell_type": "code",
   "execution_count": 1,
   "metadata": {},
   "outputs": [],
   "source": [
    "input_file, test_input_file = 'day19_input', 'day19_test_input'"
   ]
  },
  {
   "cell_type": "code",
   "execution_count": 23,
   "metadata": {},
   "outputs": [],
   "source": [
    "test = True \n",
    "\n",
    "file = test_input_file if(test) else input_file\n",
    "\n",
    "with open(file, 'r') as f:\n",
    "    rules = [l.strip() for l in f.readlines() if l.find(\":\") != -1]\n",
    "    \n",
    "with open(file, 'r') as f:\n",
    "    messageSet = [l.strip() for l in f.readlines() if ((l.find(\":\") == -1) and (l != \"\\n\"))]"
   ]
  },
  {
   "cell_type": "code",
   "execution_count": 25,
   "metadata": {},
   "outputs": [
    {
     "data": {
      "text/plain": [
       "['0: 4 1 5',\n",
       " '1: 2 3 | 3 2',\n",
       " '2: 4 4 | 5 5',\n",
       " '3: 4 5 | 5 4',\n",
       " '4: \"a\"',\n",
       " '5: \"b\"']"
      ]
     },
     "execution_count": 25,
     "metadata": {},
     "output_type": "execute_result"
    }
   ],
   "source": [
    "rules"
   ]
  },
  {
   "cell_type": "code",
   "execution_count": 31,
   "metadata": {},
   "outputs": [],
   "source": [
    "# flesh out the rule set\n",
    "from collections import defaultdict\n",
    "numberRule = defaultdict(list)\n",
    "characterRule = defaultdict(list)\n",
    "\n",
    "for r in rules:\n",
    "    top, bottom = r.split(\":\")\n",
    "    if bottom.find(\"\\\"\") != -1:\n",
    "        bottom.strip(\"\\\"\")\n",
    "        characterRule[top] = bottom\n",
    "    else:\n",
    "        bottom = bottom.split(\"|\")\n",
    "        numberRule[top] = [b.strip() for b in bottom]"
   ]
  },
  {
   "cell_type": "code",
   "execution_count": 32,
   "metadata": {},
   "outputs": [
    {
     "data": {
      "text/plain": [
       "defaultdict(list,\n",
       "            {'0': ['4 1 5'],\n",
       "             '1': ['2 3', '3 2'],\n",
       "             '2': ['4 4', '5 5'],\n",
       "             '3': ['4 5', '5 4']})"
      ]
     },
     "execution_count": 32,
     "metadata": {},
     "output_type": "execute_result"
    }
   ],
   "source": [
    "numberRule"
   ]
  },
  {
   "cell_type": "code",
   "execution_count": 33,
   "metadata": {},
   "outputs": [
    {
     "name": "stdout",
     "output_type": "stream",
     "text": [
      "4 1 5\n"
     ]
    }
   ],
   "source": [
    "# construct all valid messages for rule '0'\n",
    "validMessages = set()\n",
    "sr = numberRule['0'].split(\"|\")\n",
    "while True:\n",
    "    for element in sr:\n",
    "        \n",
    "    \n",
    "    "
   ]
  },
  {
   "cell_type": "code",
   "execution_count": 17,
   "metadata": {},
   "outputs": [
    {
     "name": "stdout",
     "output_type": "stream",
     "text": [
      " 1 2\n",
      " \"a\"\n",
      " 1 3 | 3 1\n",
      " \"b\"\n"
     ]
    }
   ],
   "source": [
    "from collections import defaultdict\n",
    "rulesList = defaultdict(list)\n",
    "\n",
    "for l in lines:\n",
    "    if l.find(\":\") != -1:\n",
    "        rule, subrules = l.split(\":\")\n",
    "        print(subrules)\n",
    "        rulesList[rule] = [s for s in subrules]"
   ]
  },
  {
   "cell_type": "code",
   "execution_count": 16,
   "metadata": {},
   "outputs": [
    {
     "data": {
      "text/plain": [
       "defaultdict(list,\n",
       "            {'0': [' ', '1', ' ', '2'],\n",
       "             '1': [' ', '\"', 'a', '\"'],\n",
       "             '2': [' ', '1', ' ', '3', ' ', '|', ' ', '3', ' ', '1'],\n",
       "             '3': [' ', '\"', 'b', '\"']})"
      ]
     },
     "execution_count": 16,
     "metadata": {},
     "output_type": "execute_result"
    }
   ],
   "source": [
    "rulesList"
   ]
  },
  {
   "cell_type": "code",
   "execution_count": null,
   "metadata": {},
   "outputs": [],
   "source": []
  },
  {
   "cell_type": "code",
   "execution_count": 10,
   "metadata": {},
   "outputs": [
    {
     "data": {
      "text/plain": [
       "defaultdict(list,\n",
       "            {'0': [[], ['1'], [], ['2']],\n",
       "             '1': [[], ['\"'], ['a'], ['\"']],\n",
       "             '2': [[], ['1'], [], ['3'], [], ['|'], [], ['3'], [], ['1']],\n",
       "             '3': [[], ['\"'], ['b'], ['\"']]})"
      ]
     },
     "execution_count": 10,
     "metadata": {},
     "output_type": "execute_result"
    }
   ],
   "source": [
    "rulesList"
   ]
  },
  {
   "cell_type": "markdown",
   "metadata": {},
   "source": [
    "# Part Two"
   ]
  },
  {
   "cell_type": "code",
   "execution_count": 3,
   "metadata": {},
   "outputs": [],
   "source": [
    "test = True \n",
    "\n",
    "file = test_input_file if(test) else input_file\n",
    "\n",
    "with open(file, 'r') as f:\n",
    "    lines = [l.strip() for l in f.readlines()]"
   ]
  },
  {
   "cell_type": "code",
   "execution_count": null,
   "metadata": {},
   "outputs": [],
   "source": []
  },
  {
   "cell_type": "code",
   "execution_count": null,
   "metadata": {},
   "outputs": [],
   "source": []
  }
 ],
 "metadata": {
  "kernelspec": {
   "display_name": "Python 3",
   "language": "python",
   "name": "python3"
  },
  "language_info": {
   "codemirror_mode": {
    "name": "ipython",
    "version": 3
   },
   "file_extension": ".py",
   "mimetype": "text/x-python",
   "name": "python",
   "nbconvert_exporter": "python",
   "pygments_lexer": "ipython3",
   "version": "3.7.9"
  }
 },
 "nbformat": 4,
 "nbformat_minor": 4
}
