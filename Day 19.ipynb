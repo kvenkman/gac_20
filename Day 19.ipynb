{
 "cells": [
  {
   "cell_type": "markdown",
   "metadata": {},
   "source": [
    "# Part One"
   ]
  },
  {
   "cell_type": "code",
   "execution_count": 1,
   "metadata": {},
   "outputs": [],
   "source": [
    "input_file, test_input_file = 'day19_input', 'day19_test_input'"
   ]
  },
  {
   "cell_type": "code",
   "execution_count": 2,
   "metadata": {},
   "outputs": [],
   "source": [
    "file = test_input_file\n",
    "with open(file, 'r') as f:\n",
    "    rules = [l.strip() for l in f.readlines() if l.find(\":\") != -1]\n",
    "    \n",
    "with open(file, 'r') as f:\n",
    "    messageSet = [l.strip() for l in f.readlines() if ((l.find(\":\") == -1) and (l != \"\\n\"))]"
   ]
  },
  {
   "cell_type": "code",
   "execution_count": 3,
   "metadata": {},
   "outputs": [],
   "source": [
    "def parseString(inputString):\n",
    "    if inputString in characterRule:\n",
    "        return characterRule[inputString]\n",
    "    \n",
    "    returnList = inputString.split(\" \")\n",
    "    \n",
    "    updatedList = []\n",
    "    for s in returnList:\n",
    "        if s in numberRule:\n",
    "            temp = [parseString(x) for x in numberRule[s]]\n",
    "            temp = [x for y in temp for x in y]          \n",
    "            updatedList.append(temp)\n",
    "        else:\n",
    "            updatedList.append(parseString(s))\n",
    "        \n",
    "    while(len(updatedList) > 1):\n",
    "        newList = []\n",
    "        for x in updatedList[0]:\n",
    "            for y in updatedList[1]:\n",
    "                newList.append(x+y)\n",
    "\n",
    "        updatedList = [newList, *updatedList[2:]]\n",
    "    \n",
    "    updatedList = list(*updatedList)\n",
    "    characterRule[inputString] = updatedList\n",
    "    return updatedList"
   ]
  },
  {
   "cell_type": "code",
   "execution_count": 4,
   "metadata": {},
   "outputs": [],
   "source": [
    "# parse the rule set\n",
    "characterRule = dict()\n",
    "numberRule = dict()\n",
    "\n",
    "for r in rules:\n",
    "    top, bottom = r.split(\":\")\n",
    "    if bottom.find(\"\\\"\") != -1:\n",
    "        characterRule[top] = [bottom.strip().strip(\"\\\"\")]\n",
    "    else:\n",
    "        numberRule[top] = [x.strip() for x in bottom.split(\"|\")]"
   ]
  },
  {
   "cell_type": "code",
   "execution_count": 5,
   "metadata": {
    "scrolled": false
   },
   "outputs": [
    {
     "data": {
      "text/plain": [
       "8"
      ]
     },
     "execution_count": 5,
     "metadata": {},
     "output_type": "execute_result"
    }
   ],
   "source": [
    "possibleWords = set(parseString('0'))\n",
    "len(possibleWords)"
   ]
  },
  {
   "cell_type": "code",
   "execution_count": 6,
   "metadata": {},
   "outputs": [
    {
     "name": "stdout",
     "output_type": "stream",
     "text": [
      "2\n"
     ]
    }
   ],
   "source": [
    "nValidWords = 0\n",
    "for message in messageSet:\n",
    "    if message in possibleWords:\n",
    "        nValidWords += 1\n",
    "print(nValidWords)\n",
    "    "
   ]
  },
  {
   "cell_type": "code",
   "execution_count": 7,
   "metadata": {},
   "outputs": [
    {
     "name": "stdout",
     "output_type": "stream",
     "text": [
      "# of possible words:  2097152\n",
      "# of valid words:  147\n"
     ]
    }
   ],
   "source": [
    "file = input_file\n",
    "with open(file, 'r') as f:\n",
    "    rules = [l.strip() for l in f.readlines() if l.find(\":\") != -1]\n",
    "    \n",
    "with open(file, 'r') as f:\n",
    "    messageSet = [l.strip() for l in f.readlines() if ((l.find(\":\") == -1) and (l != \"\\n\"))]\n",
    "    \n",
    "# parse the rule set\n",
    "characterRule = dict()\n",
    "numberRule = dict()\n",
    "\n",
    "for r in rules:\n",
    "    top, bottom = r.split(\":\")\n",
    "    if bottom.find(\"\\\"\") != -1:\n",
    "        characterRule[top] = [bottom.strip().strip(\"\\\"\")]\n",
    "    else:\n",
    "        numberRule[top] = [x.strip() for x in bottom.split(\"|\")]\n",
    "        \n",
    "possibleWords = set(parseString('0'))\n",
    "print(\"# of possible words: \", len(possibleWords))\n",
    "\n",
    "nValidWords = 0\n",
    "for message in messageSet:\n",
    "    if message in possibleWords:\n",
    "        nValidWords += 1\n",
    "print(\"# of valid words: \", nValidWords)"
   ]
  },
  {
   "cell_type": "markdown",
   "metadata": {},
   "source": [
    "## Part 2"
   ]
  },
  {
   "cell_type": "code",
   "execution_count": 10,
   "metadata": {},
   "outputs": [],
   "source": [
    "def parseString(inputString, recursionDepth):\n",
    "    if recursionDepth > 7:\n",
    "        return ['?']\n",
    "    \n",
    "    if inputString in characterRule:\n",
    "        return characterRule[inputString]\n",
    "    \n",
    "    returnList = inputString.split(\" \")\n",
    "    \n",
    "    updatedList = []\n",
    "    for s in returnList:\n",
    "        if s in numberRule:\n",
    "            temp = [parseString(x, recursionDepth+1) for x in numberRule[s]]\n",
    "            temp = [x for y in temp for x in y]          \n",
    "            updatedList.append(temp)\n",
    "        else:\n",
    "            updatedList.append(parseString(s, recursionDepth+1))\n",
    "        \n",
    "    while(len(updatedList) > 1):\n",
    "        newList = []\n",
    "        for x in updatedList[0]:\n",
    "            for y in updatedList[1]:\n",
    "                newList.append(x+y)\n",
    "\n",
    "        updatedList = [newList, *updatedList[2:]]\n",
    "    \n",
    "    updatedList = list(*updatedList)\n",
    "    characterRule[inputString] = updatedList\n",
    "    return updatedList"
   ]
  },
  {
   "cell_type": "code",
   "execution_count": 11,
   "metadata": {},
   "outputs": [
    {
     "name": "stdout",
     "output_type": "stream",
     "text": [
      "# of possible words:  4096\n",
      "bbabbbbaabaabba\n",
      "ababaaaaaabaaab\n",
      "ababaaaaabbbaba\n",
      "# of valid words:  3\n"
     ]
    }
   ],
   "source": [
    "file = 'day19_test_input_2'\n",
    "with open(file, 'r') as f:\n",
    "    rules = [l.strip() for l in f.readlines() if l.find(\":\") != -1]\n",
    "    \n",
    "with open(file, 'r') as f:\n",
    "    messageSet = [l.strip() for l in f.readlines() if ((l.find(\":\") == -1) and (l != \"\\n\"))]\n",
    "    \n",
    "# parse the rule set\n",
    "characterRule = dict()\n",
    "numberRule = dict()\n",
    "\n",
    "for r in rules:\n",
    "    top, bottom = r.split(\":\")\n",
    "    if bottom.find(\"\\\"\") != -1:\n",
    "        characterRule[top] = [bottom.strip().strip(\"\\\"\")]\n",
    "    else:\n",
    "        numberRule[top] = [x.strip() for x in bottom.split(\"|\")]\n",
    "        \n",
    "possibleWords = set(parseString('0', 0))\n",
    "print(\"# of possible words: \", len(possibleWords))\n",
    "\n",
    "nValidWords = 0\n",
    "for message in messageSet:\n",
    "    if message in possibleWords:\n",
    "        nValidWords += 1\n",
    "        print(message)\n",
    "print(\"# of valid words: \", nValidWords)"
   ]
  },
  {
   "cell_type": "code",
   "execution_count": null,
   "metadata": {},
   "outputs": [],
   "source": [
    "file = 'day19_test_input_2'\n",
    "with open(file, 'r') as f:\n",
    "    rules = [l.strip() for l in f.readlines() if l.find(\":\") != -1]\n",
    "    \n",
    "with open(file, 'r') as f:\n",
    "    messageSet = [l.strip() for l in f.readlines() if ((l.find(\":\") == -1) and (l != \"\\n\"))]\n",
    "    \n",
    "# parse the rule set\n",
    "characterRule = dict()\n",
    "numberRule = dict()\n",
    "\n",
    "for r in rules:\n",
    "    top, bottom = r.split(\":\")\n",
    "    if bottom.find(\"\\\"\") != -1:\n",
    "        characterRule[top] = [bottom.strip().strip(\"\\\"\")]\n",
    "    else:\n",
    "        numberRule[top] = [x.strip() for x in bottom.split(\"|\")]\n",
    "        \n",
    "numberRule['8'] = [\"42\",  \"42 8\"]\n",
    "numberRule['11'] = [\"42 31\", \"42 11 31\"]\n",
    "        \n",
    "possibleWords = set(parseString('0', 0))\n",
    "print(\"# of possible words: \", len(possibleWords))\n",
    "\n",
    "nValidWords = 0\n",
    "for message in messageSet:\n",
    "    if message in possibleWords:\n",
    "        nValidWords += 1\n",
    "        print(message)\n",
    "print(\"# of valid words: \", nValidWords)"
   ]
  },
  {
   "cell_type": "code",
   "execution_count": null,
   "metadata": {},
   "outputs": [],
   "source": []
  },
  {
   "cell_type": "code",
   "execution_count": null,
   "metadata": {},
   "outputs": [],
   "source": [
    "file = 'test_input'\n",
    "with open(file, 'r') as f:\n",
    "    rules = [l.strip() for l in f.readlines() if l.find(\":\") != -1]\n",
    "    \n",
    "with open(file, 'r') as f:\n",
    "    messageSet = [l.strip() for l in f.readlines() if ((l.find(\":\") == -1) and (l != \"\\n\"))]\n",
    "\n",
    "# parse the rule set\n",
    "characterRule = dict()\n",
    "numberRule = dict()\n",
    "\n",
    "for r in rules:\n",
    "    top, bottom = r.split(\":\")\n",
    "    if bottom.find(\"\\\"\") != -1:\n",
    "        characterRule[top] = [bottom.strip().strip(\"\\\"\")]\n",
    "    else:\n",
    "        numberRule[top] = [x.strip() for x in bottom.split(\"|\")]\n",
    "\n",
    "numberRule['8'] = [\"42\",  \"42 8\"]\n",
    "numberRule['11'] = [\"42 31\", \"42 11 31\"]"
   ]
  }
 ],
 "metadata": {
  "kernelspec": {
   "display_name": "Python 3",
   "language": "python",
   "name": "python3"
  },
  "language_info": {
   "codemirror_mode": {
    "name": "ipython",
    "version": 3
   },
   "file_extension": ".py",
   "mimetype": "text/x-python",
   "name": "python",
   "nbconvert_exporter": "python",
   "pygments_lexer": "ipython3",
   "version": "3.7.4"
  }
 },
 "nbformat": 4,
 "nbformat_minor": 4
}
