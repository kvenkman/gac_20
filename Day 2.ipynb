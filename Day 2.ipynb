{
 "cells": [
  {
   "cell_type": "markdown",
   "metadata": {},
   "source": [
    "# Part One"
   ]
  },
  {
   "cell_type": "code",
   "execution_count": 1,
   "metadata": {},
   "outputs": [],
   "source": [
    "input_file, test_input_file = 'day2_input', 'day2_test_input'"
   ]
  },
  {
   "cell_type": "code",
   "execution_count": 2,
   "metadata": {},
   "outputs": [],
   "source": [
    "test = False \n",
    "\n",
    "if test:\n",
    "    with open(test_input_file, 'r') as f:\n",
    "        lines = f.readlines()\n",
    "else:\n",
    "    with open(input_file, 'r') as f:\n",
    "        lines = f.readlines()    "
   ]
  },
  {
   "cell_type": "code",
   "execution_count": 3,
   "metadata": {},
   "outputs": [
    {
     "name": "stdout",
     "output_type": "stream",
     "text": [
      "500\n"
     ]
    }
   ],
   "source": [
    "n_valid_pw = 0\n",
    "for line in lines:\n",
    "    lo_hi, ch, pw = line.split(\" \")\n",
    "    ch = ch[:-1]\n",
    "    lo = int(lo_hi.split(\"-\")[0])\n",
    "    hi = int(lo_hi.split(\"-\")[1])\n",
    "    \n",
    "    counter = 0\n",
    "    for c in pw:\n",
    "        if c == ch:\n",
    "            counter += 1\n",
    "    \n",
    "    if ((counter >= lo) and (counter <= hi)):\n",
    "        n_valid_pw += 1\n",
    "\n",
    "print(n_valid_pw)\n",
    "    "
   ]
  },
  {
   "cell_type": "markdown",
   "metadata": {},
   "source": [
    "# Part Two"
   ]
  },
  {
   "cell_type": "code",
   "execution_count": 4,
   "metadata": {},
   "outputs": [],
   "source": [
    "test = False\n",
    "\n",
    "if test:\n",
    "    with open(test_input_file, 'r') as f:\n",
    "        lines = f.readlines()\n",
    "else:\n",
    "    with open(input_file, 'r') as f:\n",
    "        lines = f.readlines()    "
   ]
  },
  {
   "cell_type": "code",
   "execution_count": 5,
   "metadata": {},
   "outputs": [
    {
     "name": "stdout",
     "output_type": "stream",
     "text": [
      "313\n"
     ]
    }
   ],
   "source": [
    "n_valid_pw = 0\n",
    "for line in lines:\n",
    "    lo_hi, ch, pw = line.split(\" \")\n",
    "    ch = ch[:-1]\n",
    "    lo = int(lo_hi.split(\"-\")[0]) - 1\n",
    "    hi = int(lo_hi.split(\"-\")[1]) - 1\n",
    "    \n",
    "    if ((pw[lo] == ch) ^ (pw[hi] == ch)):\n",
    "        n_valid_pw += 1\n",
    "\n",
    "print(n_valid_pw)\n",
    "    "
   ]
  }
 ],
 "metadata": {
  "kernelspec": {
   "display_name": "Python 3",
   "language": "python",
   "name": "python3"
  },
  "language_info": {
   "codemirror_mode": {
    "name": "ipython",
    "version": 3
   },
   "file_extension": ".py",
   "mimetype": "text/x-python",
   "name": "python",
   "nbconvert_exporter": "python",
   "pygments_lexer": "ipython3",
   "version": "3.7.9"
  }
 },
 "nbformat": 4,
 "nbformat_minor": 4
}
