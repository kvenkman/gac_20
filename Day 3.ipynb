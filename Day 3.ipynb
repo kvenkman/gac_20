{
 "cells": [
  {
   "cell_type": "markdown",
   "metadata": {},
   "source": [
    "# Part One"
   ]
  },
  {
   "cell_type": "code",
   "execution_count": 1,
   "metadata": {},
   "outputs": [],
   "source": [
    "input_file, test_input_file = 'day3_input', 'day3_test_input'"
   ]
  },
  {
   "cell_type": "code",
   "execution_count": 79,
   "metadata": {},
   "outputs": [],
   "source": [
    "test = True \n",
    "\n",
    "file = test_input_file if(test) else input_file\n",
    "\n",
    "with open(file, 'r') as f:\n",
    "    lines = [l.strip() for l in f.readlines()]"
   ]
  },
  {
   "cell_type": "code",
   "execution_count": 80,
   "metadata": {},
   "outputs": [
    {
     "name": "stdout",
     "output_type": "stream",
     "text": [
      "7\n"
     ]
    }
   ],
   "source": [
    "treeCount, x, y = 0, 0, 0\n",
    "x_slope, y_slope = 3, 1\n",
    "\n",
    "while(y<len(lines)):\n",
    "    l = lines[y]\n",
    "    if (l[x] == '#'):\n",
    "        treeCount += 1\n",
    "    \n",
    "    x += x_slope\n",
    "    y += y_slope\n",
    "    \n",
    "    i += 1\n",
    "    if(x>len(l)-1):\n",
    "        x -= len(l)\n",
    "\n",
    "print(treeCount)"
   ]
  },
  {
   "cell_type": "markdown",
   "metadata": {},
   "source": [
    "# Part Two"
   ]
  },
  {
   "cell_type": "code",
   "execution_count": 81,
   "metadata": {},
   "outputs": [],
   "source": [
    "test = False \n",
    "\n",
    "file = test_input_file if(test) else input_file\n",
    "\n",
    "with open(file, 'r') as f:\n",
    "    lines = [l.strip() for l in f.readlines()]"
   ]
  },
  {
   "cell_type": "code",
   "execution_count": 82,
   "metadata": {},
   "outputs": [],
   "source": [
    "x_slopes = [1, 3, 5, 7, 1]\n",
    "y_slopes = [1, 1, 1, 1, 2]"
   ]
  },
  {
   "cell_type": "code",
   "execution_count": 85,
   "metadata": {},
   "outputs": [
    {
     "name": "stdout",
     "output_type": "stream",
     "text": [
      "6419669520\n"
     ]
    }
   ],
   "source": [
    "product = 1\n",
    "\n",
    "for x_slope, y_slope in zip(x_slopes, y_slopes):\n",
    "    treeCount, x, y = 0, 0, 0\n",
    "    \n",
    "    while(y<len(lines)):\n",
    "        l = lines[y]\n",
    "        if (l[x] == '#'):\n",
    "            treeCount += 1\n",
    "\n",
    "        x += x_slope\n",
    "        y += y_slope\n",
    "\n",
    "        i += 1\n",
    "        if(x>len(l)-1):\n",
    "            x -= len(l)\n",
    "            \n",
    "    product *= treeCount\n",
    "print(product)"
   ]
  }
 ],
 "metadata": {
  "kernelspec": {
   "display_name": "Python 3",
   "language": "python",
   "name": "python3"
  },
  "language_info": {
   "codemirror_mode": {
    "name": "ipython",
    "version": 3
   },
   "file_extension": ".py",
   "mimetype": "text/x-python",
   "name": "python",
   "nbconvert_exporter": "python",
   "pygments_lexer": "ipython3",
   "version": "3.7.9"
  }
 },
 "nbformat": 4,
 "nbformat_minor": 4
}
