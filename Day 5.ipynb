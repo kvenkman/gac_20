{
 "cells": [
  {
   "cell_type": "markdown",
   "metadata": {},
   "source": [
    "# Part One"
   ]
  },
  {
   "cell_type": "code",
   "execution_count": 1,
   "metadata": {},
   "outputs": [],
   "source": [
    "input_file, test_input_file = 'day5_input', 'day5_test_input'"
   ]
  },
  {
   "cell_type": "code",
   "execution_count": 2,
   "metadata": {},
   "outputs": [],
   "source": [
    "test = False\n",
    "\n",
    "file = test_input_file if(test) else input_file\n",
    "\n",
    "with open(file, 'r') as f:\n",
    "    lines = [l.strip() for l in f.readlines()]"
   ]
  },
  {
   "cell_type": "code",
   "execution_count": 3,
   "metadata": {},
   "outputs": [],
   "source": [
    "def calcRC(seatCode, lower, upper, ch):\n",
    "    for c in seatCode:\n",
    "        lower_mid, upper_mid = lower + int((upper-lower+1)/2 - 1), lower + int((upper-lower+1)/2)\n",
    "        if c == ch:\n",
    "            upper = lower_mid\n",
    "        else:\n",
    "            lower = upper_mid\n",
    "            \n",
    "    return lower if(seatCode[-1] == ch) else upper\n",
    "\n",
    "def calcId(seatCode):\n",
    "    return calcRC(seatCode[:7], 0, 127, \"F\")*8 + calcRC(seatCode[7:], 0, 7, \"L\")\n"
   ]
  },
  {
   "cell_type": "code",
   "execution_count": 4,
   "metadata": {
    "scrolled": true
   },
   "outputs": [
    {
     "name": "stdout",
     "output_type": "stream",
     "text": [
      "816\n"
     ]
    }
   ],
   "source": [
    "highestId = 0\n",
    "for seatCode in lines:\n",
    "    currentId = calcId(seatCode)\n",
    "    highestId = currentId if (currentId>highestId) else highestId\n",
    "\n",
    "print(highestId)"
   ]
  },
  {
   "cell_type": "markdown",
   "metadata": {},
   "source": [
    "# Part Two"
   ]
  },
  {
   "cell_type": "code",
   "execution_count": 5,
   "metadata": {},
   "outputs": [],
   "source": [
    "test = False \n",
    "\n",
    "file = test_input_file if(test) else input_file\n",
    "\n",
    "with open(file, 'r') as f:\n",
    "    lines = [l.strip() for l in f.readlines()]"
   ]
  },
  {
   "cell_type": "code",
   "execution_count": 6,
   "metadata": {},
   "outputs": [
    {
     "name": "stdout",
     "output_type": "stream",
     "text": [
      "539\n"
     ]
    }
   ],
   "source": [
    "highestID = 0\n",
    "seatIDList = []\n",
    "for seatCode in lines:\n",
    "    currentID = calcId(seatCode)\n",
    "    seatIDList.append(currentID)\n",
    "    highestID = currentID if (currentID>highestID) else highestID\n",
    "\n",
    "seatIDList.sort()\n",
    "for i, seatID in enumerate(seatIDList[:-1]):\n",
    "    if (seatIDList[i+1] - seatID > 1):\n",
    "        print(seatID+1)\n",
    "        break"
   ]
  }
 ],
 "metadata": {
  "kernelspec": {
   "display_name": "Python 3",
   "language": "python",
   "name": "python3"
  },
  "language_info": {
   "codemirror_mode": {
    "name": "ipython",
    "version": 3
   },
   "file_extension": ".py",
   "mimetype": "text/x-python",
   "name": "python",
   "nbconvert_exporter": "python",
   "pygments_lexer": "ipython3",
   "version": "3.7.9"
  }
 },
 "nbformat": 4,
 "nbformat_minor": 4
}
