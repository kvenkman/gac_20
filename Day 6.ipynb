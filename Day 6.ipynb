{
 "cells": [
  {
   "cell_type": "markdown",
   "metadata": {},
   "source": [
    "# Part One"
   ]
  },
  {
   "cell_type": "code",
   "execution_count": 1,
   "metadata": {},
   "outputs": [],
   "source": [
    "input_file, test_input_file = 'day6_input', 'day6_test_input'"
   ]
  },
  {
   "cell_type": "code",
   "execution_count": 2,
   "metadata": {},
   "outputs": [],
   "source": [
    "test = False \n",
    "\n",
    "file = test_input_file if(test) else input_file\n",
    "\n",
    "with open(file, 'r') as f:\n",
    "    lines = [l.strip() for l in f.readlines()]\n",
    "\n",
    "lines.append(\"\") # to ensure last group processing"
   ]
  },
  {
   "cell_type": "code",
   "execution_count": 3,
   "metadata": {},
   "outputs": [
    {
     "name": "stdout",
     "output_type": "stream",
     "text": [
      "6662\n"
     ]
    }
   ],
   "source": [
    "groupAnswerSet = set()\n",
    "sumCount = 0\n",
    "for answer in lines:\n",
    "    if(answer != \"\"):\n",
    "        for c in answer:\n",
    "            groupAnswerSet.add(c)\n",
    "    else:\n",
    "        # process this group before moving to the next\n",
    "        sumCount += len(groupAnswerSet)\n",
    "        groupAnswerSet = set()\n",
    "print(sumCount)"
   ]
  },
  {
   "cell_type": "markdown",
   "metadata": {},
   "source": [
    "# Part Two"
   ]
  },
  {
   "cell_type": "code",
   "execution_count": 4,
   "metadata": {},
   "outputs": [],
   "source": [
    "from collections import defaultdict # for initializing default values for keys"
   ]
  },
  {
   "cell_type": "code",
   "execution_count": 5,
   "metadata": {},
   "outputs": [],
   "source": [
    "test = False \n",
    "\n",
    "file = test_input_file if(test) else input_file\n",
    "\n",
    "with open(file, 'r') as f:\n",
    "    lines = [l.strip() for l in f.readlines()]\n",
    "\n",
    "lines.append(\"\")"
   ]
  },
  {
   "cell_type": "code",
   "execution_count": 6,
   "metadata": {},
   "outputs": [
    {
     "name": "stdout",
     "output_type": "stream",
     "text": [
      "3382\n"
     ]
    }
   ],
   "source": [
    "groupAnswerDict = defaultdict(int)\n",
    "groupSize = 0\n",
    "sumCount = 0\n",
    "\n",
    "for answer in lines:\n",
    "    if(answer != \"\"):\n",
    "        groupSize += 1\n",
    "        for c in answer:\n",
    "            groupAnswerDict[c] += 1\n",
    "            \n",
    "    else:\n",
    "        for value in groupAnswerDict.values():\n",
    "            if value == groupSize:\n",
    "                # we're checking to see if everyone in the group\n",
    "                # answered yes for a given question\n",
    "                sumCount += 1\n",
    "        \n",
    "        groupAnswerDict = defaultdict(int)\n",
    "        groupSize = 0\n",
    "\n",
    "print(sumCount)"
   ]
  }
 ],
 "metadata": {
  "kernelspec": {
   "display_name": "Python 3",
   "language": "python",
   "name": "python3"
  },
  "language_info": {
   "codemirror_mode": {
    "name": "ipython",
    "version": 3
   },
   "file_extension": ".py",
   "mimetype": "text/x-python",
   "name": "python",
   "nbconvert_exporter": "python",
   "pygments_lexer": "ipython3",
   "version": "3.7.9"
  }
 },
 "nbformat": 4,
 "nbformat_minor": 4
}
