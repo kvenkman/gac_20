{
 "cells": [
  {
   "cell_type": "markdown",
   "metadata": {},
   "source": [
    "# Part One"
   ]
  },
  {
   "cell_type": "code",
   "execution_count": 57,
   "metadata": {},
   "outputs": [],
   "source": [
    "input_file, test_input_file = 'day7_input', 'day7_test_input'"
   ]
  },
  {
   "cell_type": "code",
   "execution_count": 70,
   "metadata": {},
   "outputs": [],
   "source": [
    "test = False\n",
    "\n",
    "file = test_input_file if(test) else input_file\n",
    "\n",
    "with open(file, 'r') as f:\n",
    "    lines = [l.strip() for l in f.readlines()]"
   ]
  },
  {
   "cell_type": "code",
   "execution_count": 71,
   "metadata": {},
   "outputs": [],
   "source": [
    "from collections import defaultdict\n",
    "\n",
    "bagDict = defaultdict(list)\n",
    "for line in lines:\n",
    "    bags = line.split('contain')\n",
    "    \n",
    "    outside = bags[0].split('bags')\n",
    "    inside = bags[1].split(',')\n",
    "    \n",
    "    outside = outside[0].strip()\n",
    "    for bag in inside:\n",
    "        temp = bag.strip().split(\" \")\n",
    "        if(temp[0] != \"no\"):\n",
    "            bagDict[\" \".join(temp[1:3])].append(outside)\n"
   ]
  },
  {
   "cell_type": "code",
   "execution_count": 72,
   "metadata": {},
   "outputs": [
    {
     "name": "stdout",
     "output_type": "stream",
     "text": [
      "248\n"
     ]
    }
   ],
   "source": [
    "# now to do a tree traversal - starting with a shiny gold back, how many paths lead to leaf nodes?\n",
    "def returnContainers(bag_color, bagDict, containers):\n",
    "    \n",
    "    for v in bagDict[bag_color]:\n",
    "        containers.add(v)\n",
    "        if bagDict[v] == []:\n",
    "            continue\n",
    "        else:\n",
    "            returnContainers(v, bagDict, containers)\n",
    "    \n",
    "    return containers\n",
    "        \n",
    "print(len(returnContainers('shiny gold', bagDict, set())))"
   ]
  },
  {
   "cell_type": "markdown",
   "metadata": {},
   "source": [
    "# Part Two"
   ]
  },
  {
   "cell_type": "code",
   "execution_count": 91,
   "metadata": {},
   "outputs": [],
   "source": [
    "test = False \n",
    "\n",
    "file = test_input_file if(test) else input_file\n",
    "\n",
    "with open(file, 'r') as f:\n",
    "    lines = [l.strip() for l in f.readlines()]"
   ]
  },
  {
   "cell_type": "code",
   "execution_count": 92,
   "metadata": {},
   "outputs": [],
   "source": [
    "from collections import defaultdict\n",
    "\n",
    "bagDict = defaultdict(list)\n",
    "for line in lines:\n",
    "    bags = line.split('contain')\n",
    "    \n",
    "    outside = bags[0].split('bags')\n",
    "    inside = bags[1].split(',')\n",
    "    \n",
    "    outside = outside[0].strip()\n",
    "    for bag in inside:\n",
    "        temp = bag.strip().split(\" \")\n",
    "        if(temp[0] != \"no\"):\n",
    "            bagDict[outside].append((int(temp[0]), \" \".join(temp[1:3]))) # different dictionary from before\n"
   ]
  },
  {
   "cell_type": "code",
   "execution_count": 93,
   "metadata": {},
   "outputs": [
    {
     "name": "stdout",
     "output_type": "stream",
     "text": [
      "57281\n"
     ]
    }
   ],
   "source": [
    "def calculateContained(bag_color, bagDict):\n",
    "    containedSum = 1\n",
    "    for v in bagDict[bag_color]:\n",
    "        containedSum += v[0]*calculateContained(v[1], bagDict)\n",
    "\n",
    "    return containedSum\n",
    "\n",
    "print(calculateContained('shiny gold', bagDict)-1)     "
   ]
  }
 ],
 "metadata": {
  "kernelspec": {
   "display_name": "Python 3",
   "language": "python",
   "name": "python3"
  },
  "language_info": {
   "codemirror_mode": {
    "name": "ipython",
    "version": 3
   },
   "file_extension": ".py",
   "mimetype": "text/x-python",
   "name": "python",
   "nbconvert_exporter": "python",
   "pygments_lexer": "ipython3",
   "version": "3.7.9"
  }
 },
 "nbformat": 4,
 "nbformat_minor": 4
}
