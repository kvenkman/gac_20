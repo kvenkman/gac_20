{
 "cells": [
  {
   "cell_type": "markdown",
   "metadata": {},
   "source": [
    "# Part One"
   ]
  },
  {
   "cell_type": "code",
   "execution_count": 1,
   "metadata": {},
   "outputs": [],
   "source": [
    "input_file, test_input_file = 'day8_input', 'day8_test_input'"
   ]
  },
  {
   "cell_type": "code",
   "execution_count": 19,
   "metadata": {},
   "outputs": [],
   "source": [
    "test = False \n",
    "\n",
    "file = test_input_file if(test) else input_file\n",
    "\n",
    "with open(file, 'r') as f:\n",
    "    lines = [l.strip() for l in f.readlines()]"
   ]
  },
  {
   "cell_type": "code",
   "execution_count": 20,
   "metadata": {},
   "outputs": [],
   "source": [
    "from collections import defaultdict"
   ]
  },
  {
   "cell_type": "code",
   "execution_count": 21,
   "metadata": {},
   "outputs": [
    {
     "name": "stdout",
     "output_type": "stream",
     "text": [
      "1814\n"
     ]
    }
   ],
   "source": [
    "programDict = defaultdict(int)\n",
    "accumulator = 0\n",
    "programIndex = 0\n",
    "\n",
    "while True:\n",
    "    codeIncrement = 0\n",
    "    command = lines[programIndex].split()\n",
    "    code, val = command[0], int(command[1])\n",
    "    if not programDict[programIndex]:\n",
    "        programDict[programIndex] += 1\n",
    "    else:\n",
    "        print(accumulator)\n",
    "        break\n",
    "    \n",
    "    if (code == 'acc'):\n",
    "        accumulator += val\n",
    "        codeIncrement = 1\n",
    "    if (code == 'jmp'):\n",
    "        codeIncrement = val\n",
    "    if(code == 'nop'):\n",
    "        codeIncrement = 1\n",
    "        \n",
    "    programIndex += codeIncrement\n",
    "    \n",
    "    \n",
    "    "
   ]
  },
  {
   "cell_type": "markdown",
   "metadata": {},
   "source": [
    "# Part Two"
   ]
  },
  {
   "cell_type": "code",
   "execution_count": 45,
   "metadata": {},
   "outputs": [],
   "source": [
    "test = False \n",
    "\n",
    "file = test_input_file if(test) else input_file\n",
    "\n",
    "with open(file, 'r') as f:\n",
    "    lines = [l.strip() for l in f.readlines()]"
   ]
  },
  {
   "cell_type": "code",
   "execution_count": 46,
   "metadata": {
    "scrolled": true
   },
   "outputs": [
    {
     "name": "stdout",
     "output_type": "stream",
     "text": [
      "1056\n"
     ]
    }
   ],
   "source": [
    "\n",
    "nopList, jmpList = [], []\n",
    "\n",
    "for i, line in enumerate(lines):\n",
    "    command = line.split()\n",
    "    code, val = command[0], int(command[1])\n",
    "    if (code == 'jmp'):\n",
    "        jmpList.append(i)\n",
    "    if(code == 'nop'):\n",
    "        nopList.append(i)\n",
    "\n",
    "for idx in nopList:\n",
    "    programCopy = lines.copy()\n",
    "    command = programCopy[idx].split()\n",
    "    _, val = command[0], int(command[1])\n",
    "    programCopy[idx] = 'jmp ' + str(val)\n",
    "    \n",
    "    accumulator = 0\n",
    "    programIndex = 0\n",
    "    programDict = defaultdict(int)\n",
    "    \n",
    "    while programIndex < len(programCopy):\n",
    "        codeIncrement = 0\n",
    "        command = programCopy[programIndex].split()\n",
    "        code, val = command[0], int(command[1])\n",
    "        if not programDict[programIndex]:\n",
    "            programDict[programIndex] += 1\n",
    "        else:\n",
    "            break    \n",
    "    \n",
    "        if (code == 'acc'):\n",
    "            accumulator += val\n",
    "            codeIncrement = 1\n",
    "        if (code == 'jmp'):\n",
    "            codeIncrement = val\n",
    "        if(code == 'nop'):\n",
    "            codeIncrement = 1\n",
    "        \n",
    "        programIndex += codeIncrement    \n",
    "\n",
    "    if(programIndex >= len(programCopy)):\n",
    "        jmpList = []\n",
    "        break\n",
    "\n",
    "for idx in jmpList:\n",
    "    programCopy = lines.copy()\n",
    "    command = programCopy[idx].split()\n",
    "    _, val = command[0], int(command[1])\n",
    "    programCopy[idx] = 'nop ' + str(val)\n",
    "\n",
    "    accumulator = 0\n",
    "    programIndex = 0\n",
    "    programDict = defaultdict(int)\n",
    "    while programIndex < len(programCopy):\n",
    "        codeIncrement = 0\n",
    "        command = programCopy[programIndex].split()\n",
    "        code, val = command[0], int(command[1])\n",
    "        if not programDict[programIndex]:\n",
    "            programDict[programIndex] += 1\n",
    "        else:\n",
    "            break    \n",
    "\n",
    "        if (code == 'acc'):\n",
    "            accumulator += val\n",
    "            codeIncrement = 1\n",
    "        if (code == 'jmp'):\n",
    "            codeIncrement = val\n",
    "        if(code == 'nop'):\n",
    "            codeIncrement = 1\n",
    "\n",
    "        programIndex += codeIncrement    \n",
    "\n",
    "    if(programIndex >= len(programCopy)):\n",
    "        break        \n",
    "\n",
    "print(accumulator)"
   ]
  }
 ],
 "metadata": {
  "kernelspec": {
   "display_name": "Python 3",
   "language": "python",
   "name": "python3"
  },
  "language_info": {
   "codemirror_mode": {
    "name": "ipython",
    "version": 3
   },
   "file_extension": ".py",
   "mimetype": "text/x-python",
   "name": "python",
   "nbconvert_exporter": "python",
   "pygments_lexer": "ipython3",
   "version": "3.7.9"
  }
 },
 "nbformat": 4,
 "nbformat_minor": 4
}
