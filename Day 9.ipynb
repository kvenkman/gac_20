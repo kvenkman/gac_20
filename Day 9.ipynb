{
 "cells": [
  {
   "cell_type": "markdown",
   "metadata": {},
   "source": [
    "# Part One"
   ]
  },
  {
   "cell_type": "code",
   "execution_count": 33,
   "metadata": {},
   "outputs": [],
   "source": [
    "input_file, test_input_file = 'day9_input', 'day9_test_input'"
   ]
  },
  {
   "cell_type": "code",
   "execution_count": 26,
   "metadata": {},
   "outputs": [],
   "source": [
    "test = False \n",
    "\n",
    "file = test_input_file if(test) else input_file\n",
    "preamble = 5 if(test) else 25\n",
    "\n",
    "with open(file, 'r') as f:\n",
    "    lines = [int(l.strip()) for l in f.readlines()]"
   ]
  },
  {
   "cell_type": "code",
   "execution_count": 27,
   "metadata": {},
   "outputs": [],
   "source": [
    "from collections import deque, defaultdict"
   ]
  },
  {
   "cell_type": "code",
   "execution_count": 28,
   "metadata": {},
   "outputs": [],
   "source": [
    "myList = deque()\n",
    "myDict = defaultdict(int)\n",
    "for i in range(preamble):\n",
    "    myList.append(lines[i])\n",
    "    myDict[lines[i]] += 1"
   ]
  },
  {
   "cell_type": "code",
   "execution_count": 29,
   "metadata": {},
   "outputs": [
    {
     "name": "stdout",
     "output_type": "stream",
     "text": [
      "36845998\n"
     ]
    }
   ],
   "source": [
    "for n in lines[preamble:]:\n",
    "    flag = 1\n",
    "    for c in myList:\n",
    "        target = n - c\n",
    "        if(target in myList):\n",
    "            if(target != c):\n",
    "                flag = 0\n",
    "                break\n",
    "            elif (myDict[target] > 1):\n",
    "                flag = 0\n",
    "                break\n",
    "\n",
    "    \n",
    "    if (flag):\n",
    "        print(n)\n",
    "        break\n",
    "        \n",
    "    l = myList.popleft()\n",
    "    myDict[l] -= 1\n",
    "    myList.append(n)\n",
    "    myDict[n] += 1"
   ]
  },
  {
   "cell_type": "markdown",
   "metadata": {},
   "source": [
    "# Part Two"
   ]
  },
  {
   "cell_type": "code",
   "execution_count": 40,
   "metadata": {},
   "outputs": [],
   "source": [
    "test = False \n",
    "\n",
    "file = test_input_file if(test) else input_file\n",
    "preamble = 5 if(test) else 25\n",
    "target = 127 if(test) else 36845998\n",
    "with open(file, 'r') as f:\n",
    "    lines = [int(l.strip()) for l in f.readlines()]"
   ]
  },
  {
   "cell_type": "code",
   "execution_count": 42,
   "metadata": {},
   "outputs": [
    {
     "name": "stdout",
     "output_type": "stream",
     "text": [
      "4830226\n"
     ]
    }
   ],
   "source": [
    "startIndex = 0\n",
    "while True:\n",
    "    sum = 0\n",
    "    targetList = []\n",
    "    idx = startIndex\n",
    "    while sum < target:\n",
    "        sum += lines[idx]\n",
    "        targetList.append(lines[idx])\n",
    "        idx += 1\n",
    "    \n",
    "    if sum == target:\n",
    "        targetList.sort()\n",
    "        print(targetList[0] + targetList[-1])\n",
    "        break\n",
    "    \n",
    "    startIndex += 1\n",
    "    "
   ]
  }
 ],
 "metadata": {
  "kernelspec": {
   "display_name": "Python 3",
   "language": "python",
   "name": "python3"
  },
  "language_info": {
   "codemirror_mode": {
    "name": "ipython",
    "version": 3
   },
   "file_extension": ".py",
   "mimetype": "text/x-python",
   "name": "python",
   "nbconvert_exporter": "python",
   "pygments_lexer": "ipython3",
   "version": "3.7.9"
  }
 },
 "nbformat": 4,
 "nbformat_minor": 4
}
